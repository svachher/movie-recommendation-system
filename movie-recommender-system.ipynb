{
 "cells": [
  {
   "cell_type": "code",
   "execution_count": 8,
   "id": "6c017918",
   "metadata": {},
   "outputs": [],
   "source": [
    "import numpy as np\n",
    "import pandas as pd \n"
   ]
  },
  {
   "cell_type": "code",
   "execution_count": 9,
   "id": "a754b0f6",
   "metadata": {},
   "outputs": [],
   "source": [
    "movies = pd.read_csv('tmdb_5000_movies.csv')\n",
    "credits= pd.read_csv('tmdb_5000_credits.csv')"
   ]
  },
  {
   "cell_type": "code",
   "execution_count": 5,
   "id": "99f4b7d5",
   "metadata": {
    "scrolled": true
   },
   "outputs": [
    {
     "data": {
      "text/html": [
       "<div>\n",
       "<style scoped>\n",
       "    .dataframe tbody tr th:only-of-type {\n",
       "        vertical-align: middle;\n",
       "    }\n",
       "\n",
       "    .dataframe tbody tr th {\n",
       "        vertical-align: top;\n",
       "    }\n",
       "\n",
       "    .dataframe thead th {\n",
       "        text-align: right;\n",
       "    }\n",
       "</style>\n",
       "<table border=\"1\" class=\"dataframe\">\n",
       "  <thead>\n",
       "    <tr style=\"text-align: right;\">\n",
       "      <th></th>\n",
       "      <th>budget</th>\n",
       "      <th>genres</th>\n",
       "      <th>homepage</th>\n",
       "      <th>id</th>\n",
       "      <th>keywords</th>\n",
       "      <th>original_language</th>\n",
       "      <th>original_title</th>\n",
       "      <th>overview</th>\n",
       "      <th>popularity</th>\n",
       "      <th>production_companies</th>\n",
       "      <th>production_countries</th>\n",
       "      <th>release_date</th>\n",
       "      <th>revenue</th>\n",
       "      <th>runtime</th>\n",
       "      <th>spoken_languages</th>\n",
       "      <th>status</th>\n",
       "      <th>tagline</th>\n",
       "      <th>title</th>\n",
       "      <th>vote_average</th>\n",
       "      <th>vote_count</th>\n",
       "    </tr>\n",
       "  </thead>\n",
       "  <tbody>\n",
       "    <tr>\n",
       "      <th>0</th>\n",
       "      <td>237000000</td>\n",
       "      <td>[{\"id\": 28, \"name\": \"Action\"}, {\"id\": 12, \"nam...</td>\n",
       "      <td>http://www.avatarmovie.com/</td>\n",
       "      <td>19995</td>\n",
       "      <td>[{\"id\": 1463, \"name\": \"culture clash\"}, {\"id\":...</td>\n",
       "      <td>en</td>\n",
       "      <td>Avatar</td>\n",
       "      <td>In the 22nd century, a paraplegic Marine is di...</td>\n",
       "      <td>150.437577</td>\n",
       "      <td>[{\"name\": \"Ingenious Film Partners\", \"id\": 289...</td>\n",
       "      <td>[{\"iso_3166_1\": \"US\", \"name\": \"United States o...</td>\n",
       "      <td>2009-12-10</td>\n",
       "      <td>2787965087</td>\n",
       "      <td>162.0</td>\n",
       "      <td>[{\"iso_639_1\": \"en\", \"name\": \"English\"}, {\"iso...</td>\n",
       "      <td>Released</td>\n",
       "      <td>Enter the World of Pandora.</td>\n",
       "      <td>Avatar</td>\n",
       "      <td>7.2</td>\n",
       "      <td>11800</td>\n",
       "    </tr>\n",
       "    <tr>\n",
       "      <th>1</th>\n",
       "      <td>300000000</td>\n",
       "      <td>[{\"id\": 12, \"name\": \"Adventure\"}, {\"id\": 14, \"...</td>\n",
       "      <td>http://disney.go.com/disneypictures/pirates/</td>\n",
       "      <td>285</td>\n",
       "      <td>[{\"id\": 270, \"name\": \"ocean\"}, {\"id\": 726, \"na...</td>\n",
       "      <td>en</td>\n",
       "      <td>Pirates of the Caribbean: At World's End</td>\n",
       "      <td>Captain Barbossa, long believed to be dead, ha...</td>\n",
       "      <td>139.082615</td>\n",
       "      <td>[{\"name\": \"Walt Disney Pictures\", \"id\": 2}, {\"...</td>\n",
       "      <td>[{\"iso_3166_1\": \"US\", \"name\": \"United States o...</td>\n",
       "      <td>2007-05-19</td>\n",
       "      <td>961000000</td>\n",
       "      <td>169.0</td>\n",
       "      <td>[{\"iso_639_1\": \"en\", \"name\": \"English\"}]</td>\n",
       "      <td>Released</td>\n",
       "      <td>At the end of the world, the adventure begins.</td>\n",
       "      <td>Pirates of the Caribbean: At World's End</td>\n",
       "      <td>6.9</td>\n",
       "      <td>4500</td>\n",
       "    </tr>\n",
       "    <tr>\n",
       "      <th>2</th>\n",
       "      <td>245000000</td>\n",
       "      <td>[{\"id\": 28, \"name\": \"Action\"}, {\"id\": 12, \"nam...</td>\n",
       "      <td>http://www.sonypictures.com/movies/spectre/</td>\n",
       "      <td>206647</td>\n",
       "      <td>[{\"id\": 470, \"name\": \"spy\"}, {\"id\": 818, \"name...</td>\n",
       "      <td>en</td>\n",
       "      <td>Spectre</td>\n",
       "      <td>A cryptic message from Bond’s past sends him o...</td>\n",
       "      <td>107.376788</td>\n",
       "      <td>[{\"name\": \"Columbia Pictures\", \"id\": 5}, {\"nam...</td>\n",
       "      <td>[{\"iso_3166_1\": \"GB\", \"name\": \"United Kingdom\"...</td>\n",
       "      <td>2015-10-26</td>\n",
       "      <td>880674609</td>\n",
       "      <td>148.0</td>\n",
       "      <td>[{\"iso_639_1\": \"fr\", \"name\": \"Fran\\u00e7ais\"},...</td>\n",
       "      <td>Released</td>\n",
       "      <td>A Plan No One Escapes</td>\n",
       "      <td>Spectre</td>\n",
       "      <td>6.3</td>\n",
       "      <td>4466</td>\n",
       "    </tr>\n",
       "    <tr>\n",
       "      <th>3</th>\n",
       "      <td>250000000</td>\n",
       "      <td>[{\"id\": 28, \"name\": \"Action\"}, {\"id\": 80, \"nam...</td>\n",
       "      <td>http://www.thedarkknightrises.com/</td>\n",
       "      <td>49026</td>\n",
       "      <td>[{\"id\": 849, \"name\": \"dc comics\"}, {\"id\": 853,...</td>\n",
       "      <td>en</td>\n",
       "      <td>The Dark Knight Rises</td>\n",
       "      <td>Following the death of District Attorney Harve...</td>\n",
       "      <td>112.312950</td>\n",
       "      <td>[{\"name\": \"Legendary Pictures\", \"id\": 923}, {\"...</td>\n",
       "      <td>[{\"iso_3166_1\": \"US\", \"name\": \"United States o...</td>\n",
       "      <td>2012-07-16</td>\n",
       "      <td>1084939099</td>\n",
       "      <td>165.0</td>\n",
       "      <td>[{\"iso_639_1\": \"en\", \"name\": \"English\"}]</td>\n",
       "      <td>Released</td>\n",
       "      <td>The Legend Ends</td>\n",
       "      <td>The Dark Knight Rises</td>\n",
       "      <td>7.6</td>\n",
       "      <td>9106</td>\n",
       "    </tr>\n",
       "    <tr>\n",
       "      <th>4</th>\n",
       "      <td>260000000</td>\n",
       "      <td>[{\"id\": 28, \"name\": \"Action\"}, {\"id\": 12, \"nam...</td>\n",
       "      <td>http://movies.disney.com/john-carter</td>\n",
       "      <td>49529</td>\n",
       "      <td>[{\"id\": 818, \"name\": \"based on novel\"}, {\"id\":...</td>\n",
       "      <td>en</td>\n",
       "      <td>John Carter</td>\n",
       "      <td>John Carter is a war-weary, former military ca...</td>\n",
       "      <td>43.926995</td>\n",
       "      <td>[{\"name\": \"Walt Disney Pictures\", \"id\": 2}]</td>\n",
       "      <td>[{\"iso_3166_1\": \"US\", \"name\": \"United States o...</td>\n",
       "      <td>2012-03-07</td>\n",
       "      <td>284139100</td>\n",
       "      <td>132.0</td>\n",
       "      <td>[{\"iso_639_1\": \"en\", \"name\": \"English\"}]</td>\n",
       "      <td>Released</td>\n",
       "      <td>Lost in our world, found in another.</td>\n",
       "      <td>John Carter</td>\n",
       "      <td>6.1</td>\n",
       "      <td>2124</td>\n",
       "    </tr>\n",
       "  </tbody>\n",
       "</table>\n",
       "</div>"
      ],
      "text/plain": [
       "      budget                                             genres  \\\n",
       "0  237000000  [{\"id\": 28, \"name\": \"Action\"}, {\"id\": 12, \"nam...   \n",
       "1  300000000  [{\"id\": 12, \"name\": \"Adventure\"}, {\"id\": 14, \"...   \n",
       "2  245000000  [{\"id\": 28, \"name\": \"Action\"}, {\"id\": 12, \"nam...   \n",
       "3  250000000  [{\"id\": 28, \"name\": \"Action\"}, {\"id\": 80, \"nam...   \n",
       "4  260000000  [{\"id\": 28, \"name\": \"Action\"}, {\"id\": 12, \"nam...   \n",
       "\n",
       "                                       homepage      id  \\\n",
       "0                   http://www.avatarmovie.com/   19995   \n",
       "1  http://disney.go.com/disneypictures/pirates/     285   \n",
       "2   http://www.sonypictures.com/movies/spectre/  206647   \n",
       "3            http://www.thedarkknightrises.com/   49026   \n",
       "4          http://movies.disney.com/john-carter   49529   \n",
       "\n",
       "                                            keywords original_language  \\\n",
       "0  [{\"id\": 1463, \"name\": \"culture clash\"}, {\"id\":...                en   \n",
       "1  [{\"id\": 270, \"name\": \"ocean\"}, {\"id\": 726, \"na...                en   \n",
       "2  [{\"id\": 470, \"name\": \"spy\"}, {\"id\": 818, \"name...                en   \n",
       "3  [{\"id\": 849, \"name\": \"dc comics\"}, {\"id\": 853,...                en   \n",
       "4  [{\"id\": 818, \"name\": \"based on novel\"}, {\"id\":...                en   \n",
       "\n",
       "                             original_title  \\\n",
       "0                                    Avatar   \n",
       "1  Pirates of the Caribbean: At World's End   \n",
       "2                                   Spectre   \n",
       "3                     The Dark Knight Rises   \n",
       "4                               John Carter   \n",
       "\n",
       "                                            overview  popularity  \\\n",
       "0  In the 22nd century, a paraplegic Marine is di...  150.437577   \n",
       "1  Captain Barbossa, long believed to be dead, ha...  139.082615   \n",
       "2  A cryptic message from Bond’s past sends him o...  107.376788   \n",
       "3  Following the death of District Attorney Harve...  112.312950   \n",
       "4  John Carter is a war-weary, former military ca...   43.926995   \n",
       "\n",
       "                                production_companies  \\\n",
       "0  [{\"name\": \"Ingenious Film Partners\", \"id\": 289...   \n",
       "1  [{\"name\": \"Walt Disney Pictures\", \"id\": 2}, {\"...   \n",
       "2  [{\"name\": \"Columbia Pictures\", \"id\": 5}, {\"nam...   \n",
       "3  [{\"name\": \"Legendary Pictures\", \"id\": 923}, {\"...   \n",
       "4        [{\"name\": \"Walt Disney Pictures\", \"id\": 2}]   \n",
       "\n",
       "                                production_countries release_date     revenue  \\\n",
       "0  [{\"iso_3166_1\": \"US\", \"name\": \"United States o...   2009-12-10  2787965087   \n",
       "1  [{\"iso_3166_1\": \"US\", \"name\": \"United States o...   2007-05-19   961000000   \n",
       "2  [{\"iso_3166_1\": \"GB\", \"name\": \"United Kingdom\"...   2015-10-26   880674609   \n",
       "3  [{\"iso_3166_1\": \"US\", \"name\": \"United States o...   2012-07-16  1084939099   \n",
       "4  [{\"iso_3166_1\": \"US\", \"name\": \"United States o...   2012-03-07   284139100   \n",
       "\n",
       "   runtime                                   spoken_languages    status  \\\n",
       "0    162.0  [{\"iso_639_1\": \"en\", \"name\": \"English\"}, {\"iso...  Released   \n",
       "1    169.0           [{\"iso_639_1\": \"en\", \"name\": \"English\"}]  Released   \n",
       "2    148.0  [{\"iso_639_1\": \"fr\", \"name\": \"Fran\\u00e7ais\"},...  Released   \n",
       "3    165.0           [{\"iso_639_1\": \"en\", \"name\": \"English\"}]  Released   \n",
       "4    132.0           [{\"iso_639_1\": \"en\", \"name\": \"English\"}]  Released   \n",
       "\n",
       "                                          tagline  \\\n",
       "0                     Enter the World of Pandora.   \n",
       "1  At the end of the world, the adventure begins.   \n",
       "2                           A Plan No One Escapes   \n",
       "3                                 The Legend Ends   \n",
       "4            Lost in our world, found in another.   \n",
       "\n",
       "                                      title  vote_average  vote_count  \n",
       "0                                    Avatar           7.2       11800  \n",
       "1  Pirates of the Caribbean: At World's End           6.9        4500  \n",
       "2                                   Spectre           6.3        4466  \n",
       "3                     The Dark Knight Rises           7.6        9106  \n",
       "4                               John Carter           6.1        2124  "
      ]
     },
     "execution_count": 5,
     "metadata": {},
     "output_type": "execute_result"
    }
   ],
   "source": [
    "movies.head()"
   ]
  },
  {
   "cell_type": "code",
   "execution_count": 10,
   "id": "94ee882e",
   "metadata": {},
   "outputs": [
    {
     "data": {
      "text/plain": [
       "array(['[{\"cast_id\": 242, \"character\": \"Jake Sully\", \"credit_id\": \"5602a8a7c3a3685532001c9a\", \"gender\": 2, \"id\": 65731, \"name\": \"Sam Worthington\", \"order\": 0}, {\"cast_id\": 3, \"character\": \"Neytiri\", \"credit_id\": \"52fe48009251416c750ac9cb\", \"gender\": 1, \"id\": 8691, \"name\": \"Zoe Saldana\", \"order\": 1}, {\"cast_id\": 25, \"character\": \"Dr. Grace Augustine\", \"credit_id\": \"52fe48009251416c750aca39\", \"gender\": 1, \"id\": 10205, \"name\": \"Sigourney Weaver\", \"order\": 2}, {\"cast_id\": 4, \"character\": \"Col. Quaritch\", \"credit_id\": \"52fe48009251416c750ac9cf\", \"gender\": 2, \"id\": 32747, \"name\": \"Stephen Lang\", \"order\": 3}, {\"cast_id\": 5, \"character\": \"Trudy Chacon\", \"credit_id\": \"52fe48009251416c750ac9d3\", \"gender\": 1, \"id\": 17647, \"name\": \"Michelle Rodriguez\", \"order\": 4}, {\"cast_id\": 8, \"character\": \"Selfridge\", \"credit_id\": \"52fe48009251416c750ac9e1\", \"gender\": 2, \"id\": 1771, \"name\": \"Giovanni Ribisi\", \"order\": 5}, {\"cast_id\": 7, \"character\": \"Norm Spellman\", \"credit_id\": \"52fe48009251416c750ac9dd\", \"gender\": 2, \"id\": 59231, \"name\": \"Joel David Moore\", \"order\": 6}, {\"cast_id\": 9, \"character\": \"Moat\", \"credit_id\": \"52fe48009251416c750ac9e5\", \"gender\": 1, \"id\": 30485, \"name\": \"CCH Pounder\", \"order\": 7}, {\"cast_id\": 11, \"character\": \"Eytukan\", \"credit_id\": \"52fe48009251416c750ac9ed\", \"gender\": 2, \"id\": 15853, \"name\": \"Wes Studi\", \"order\": 8}, {\"cast_id\": 10, \"character\": \"Tsu\\'Tey\", \"credit_id\": \"52fe48009251416c750ac9e9\", \"gender\": 2, \"id\": 10964, \"name\": \"Laz Alonso\", \"order\": 9}, {\"cast_id\": 12, \"character\": \"Dr. Max Patel\", \"credit_id\": \"52fe48009251416c750ac9f1\", \"gender\": 2, \"id\": 95697, \"name\": \"Dileep Rao\", \"order\": 10}, {\"cast_id\": 13, \"character\": \"Lyle Wainfleet\", \"credit_id\": \"52fe48009251416c750ac9f5\", \"gender\": 2, \"id\": 98215, \"name\": \"Matt Gerald\", \"order\": 11}, {\"cast_id\": 32, \"character\": \"Private Fike\", \"credit_id\": \"52fe48009251416c750aca5b\", \"gender\": 2, \"id\": 154153, \"name\": \"Sean Anthony Moran\", \"order\": 12}, {\"cast_id\": 33, \"character\": \"Cryo Vault Med Tech\", \"credit_id\": \"52fe48009251416c750aca5f\", \"gender\": 2, \"id\": 397312, \"name\": \"Jason Whyte\", \"order\": 13}, {\"cast_id\": 34, \"character\": \"Venture Star Crew Chief\", \"credit_id\": \"52fe48009251416c750aca63\", \"gender\": 2, \"id\": 42317, \"name\": \"Scott Lawrence\", \"order\": 14}, {\"cast_id\": 35, \"character\": \"Lock Up Trooper\", \"credit_id\": \"52fe48009251416c750aca67\", \"gender\": 2, \"id\": 986734, \"name\": \"Kelly Kilgour\", \"order\": 15}, {\"cast_id\": 36, \"character\": \"Shuttle Pilot\", \"credit_id\": \"52fe48009251416c750aca6b\", \"gender\": 0, \"id\": 1207227, \"name\": \"James Patrick Pitt\", \"order\": 16}, {\"cast_id\": 37, \"character\": \"Shuttle Co-Pilot\", \"credit_id\": \"52fe48009251416c750aca6f\", \"gender\": 0, \"id\": 1180936, \"name\": \"Sean Patrick Murphy\", \"order\": 17}, {\"cast_id\": 38, \"character\": \"Shuttle Crew Chief\", \"credit_id\": \"52fe48009251416c750aca73\", \"gender\": 2, \"id\": 1019578, \"name\": \"Peter Dillon\", \"order\": 18}, {\"cast_id\": 39, \"character\": \"Tractor Operator / Troupe\", \"credit_id\": \"52fe48009251416c750aca77\", \"gender\": 0, \"id\": 91443, \"name\": \"Kevin Dorman\", \"order\": 19}, {\"cast_id\": 40, \"character\": \"Dragon Gunship Pilot\", \"credit_id\": \"52fe48009251416c750aca7b\", \"gender\": 2, \"id\": 173391, \"name\": \"Kelson Henderson\", \"order\": 20}, {\"cast_id\": 41, \"character\": \"Dragon Gunship Gunner\", \"credit_id\": \"52fe48009251416c750aca7f\", \"gender\": 0, \"id\": 1207236, \"name\": \"David Van Horn\", \"order\": 21}, {\"cast_id\": 42, \"character\": \"Dragon Gunship Navigator\", \"credit_id\": \"52fe48009251416c750aca83\", \"gender\": 0, \"id\": 215913, \"name\": \"Jacob Tomuri\", \"order\": 22}, {\"cast_id\": 43, \"character\": \"Suit #1\", \"credit_id\": \"52fe48009251416c750aca87\", \"gender\": 0, \"id\": 143206, \"name\": \"Michael Blain-Rozgay\", \"order\": 23}, {\"cast_id\": 44, \"character\": \"Suit #2\", \"credit_id\": \"52fe48009251416c750aca8b\", \"gender\": 2, \"id\": 169676, \"name\": \"Jon Curry\", \"order\": 24}, {\"cast_id\": 46, \"character\": \"Ambient Room Tech\", \"credit_id\": \"52fe48009251416c750aca8f\", \"gender\": 0, \"id\": 1048610, \"name\": \"Luke Hawker\", \"order\": 25}, {\"cast_id\": 47, \"character\": \"Ambient Room Tech / Troupe\", \"credit_id\": \"52fe48009251416c750aca93\", \"gender\": 0, \"id\": 42288, \"name\": \"Woody Schultz\", \"order\": 26}, {\"cast_id\": 48, \"character\": \"Horse Clan Leader\", \"credit_id\": \"52fe48009251416c750aca97\", \"gender\": 2, \"id\": 68278, \"name\": \"Peter Mensah\", \"order\": 27}, {\"cast_id\": 49, \"character\": \"Link Room Tech\", \"credit_id\": \"52fe48009251416c750aca9b\", \"gender\": 0, \"id\": 1207247, \"name\": \"Sonia Yee\", \"order\": 28}, {\"cast_id\": 50, \"character\": \"Basketball Avatar / Troupe\", \"credit_id\": \"52fe48009251416c750aca9f\", \"gender\": 1, \"id\": 1207248, \"name\": \"Jahnel Curfman\", \"order\": 29}, {\"cast_id\": 51, \"character\": \"Basketball Avatar\", \"credit_id\": \"52fe48009251416c750acaa3\", \"gender\": 0, \"id\": 89714, \"name\": \"Ilram Choi\", \"order\": 30}, {\"cast_id\": 52, \"character\": \"Na\\'vi Child\", \"credit_id\": \"52fe48009251416c750acaa7\", \"gender\": 0, \"id\": 1207249, \"name\": \"Kyla Warren\", \"order\": 31}, {\"cast_id\": 53, \"character\": \"Troupe\", \"credit_id\": \"52fe48009251416c750acaab\", \"gender\": 0, \"id\": 1207250, \"name\": \"Lisa Roumain\", \"order\": 32}, {\"cast_id\": 54, \"character\": \"Troupe\", \"credit_id\": \"52fe48009251416c750acaaf\", \"gender\": 1, \"id\": 83105, \"name\": \"Debra Wilson\", \"order\": 33}, {\"cast_id\": 57, \"character\": \"Troupe\", \"credit_id\": \"52fe48009251416c750acabb\", \"gender\": 0, \"id\": 1207253, \"name\": \"Chris Mala\", \"order\": 34}, {\"cast_id\": 55, \"character\": \"Troupe\", \"credit_id\": \"52fe48009251416c750acab3\", \"gender\": 0, \"id\": 1207251, \"name\": \"Taylor Kibby\", \"order\": 35}, {\"cast_id\": 56, \"character\": \"Troupe\", \"credit_id\": \"52fe48009251416c750acab7\", \"gender\": 0, \"id\": 1207252, \"name\": \"Jodie Landau\", \"order\": 36}, {\"cast_id\": 58, \"character\": \"Troupe\", \"credit_id\": \"52fe48009251416c750acabf\", \"gender\": 0, \"id\": 1207254, \"name\": \"Julie Lamm\", \"order\": 37}, {\"cast_id\": 59, \"character\": \"Troupe\", \"credit_id\": \"52fe48009251416c750acac3\", \"gender\": 0, \"id\": 1207257, \"name\": \"Cullen B. Madden\", \"order\": 38}, {\"cast_id\": 60, \"character\": \"Troupe\", \"credit_id\": \"52fe48009251416c750acac7\", \"gender\": 0, \"id\": 1207259, \"name\": \"Joseph Brady Madden\", \"order\": 39}, {\"cast_id\": 61, \"character\": \"Troupe\", \"credit_id\": \"52fe48009251416c750acacb\", \"gender\": 0, \"id\": 1207262, \"name\": \"Frankie Torres\", \"order\": 40}, {\"cast_id\": 62, \"character\": \"Troupe\", \"credit_id\": \"52fe48009251416c750acacf\", \"gender\": 1, \"id\": 1158600, \"name\": \"Austin Wilson\", \"order\": 41}, {\"cast_id\": 63, \"character\": \"Troupe\", \"credit_id\": \"52fe48019251416c750acad3\", \"gender\": 1, \"id\": 983705, \"name\": \"Sara Wilson\", \"order\": 42}, {\"cast_id\": 64, \"character\": \"Troupe\", \"credit_id\": \"52fe48019251416c750acad7\", \"gender\": 0, \"id\": 1207263, \"name\": \"Tamica Washington-Miller\", \"order\": 43}, {\"cast_id\": 65, \"character\": \"Op Center Staff\", \"credit_id\": \"52fe48019251416c750acadb\", \"gender\": 1, \"id\": 1145098, \"name\": \"Lucy Briant\", \"order\": 44}, {\"cast_id\": 66, \"character\": \"Op Center Staff\", \"credit_id\": \"52fe48019251416c750acadf\", \"gender\": 2, \"id\": 33305, \"name\": \"Nathan Meister\", \"order\": 45}, {\"cast_id\": 67, \"character\": \"Op Center Staff\", \"credit_id\": \"52fe48019251416c750acae3\", \"gender\": 0, \"id\": 1207264, \"name\": \"Gerry Blair\", \"order\": 46}, {\"cast_id\": 68, \"character\": \"Op Center Staff\", \"credit_id\": \"52fe48019251416c750acae7\", \"gender\": 2, \"id\": 33311, \"name\": \"Matthew Chamberlain\", \"order\": 47}, {\"cast_id\": 69, \"character\": \"Op Center Staff\", \"credit_id\": \"52fe48019251416c750acaeb\", \"gender\": 0, \"id\": 1207265, \"name\": \"Paul Yates\", \"order\": 48}, {\"cast_id\": 70, \"character\": \"Op Center Duty Officer\", \"credit_id\": \"52fe48019251416c750acaef\", \"gender\": 0, \"id\": 1207266, \"name\": \"Wray Wilson\", \"order\": 49}, {\"cast_id\": 71, \"character\": \"Op Center Staff\", \"credit_id\": \"52fe48019251416c750acaf3\", \"gender\": 2, \"id\": 54492, \"name\": \"James Gaylyn\", \"order\": 50}, {\"cast_id\": 72, \"character\": \"Dancer\", \"credit_id\": \"52fe48019251416c750acaf7\", \"gender\": 0, \"id\": 1207267, \"name\": \"Melvin Leno Clark III\", \"order\": 51}, {\"cast_id\": 73, \"character\": \"Dancer\", \"credit_id\": \"52fe48019251416c750acafb\", \"gender\": 0, \"id\": 1207268, \"name\": \"Carvon Futrell\", \"order\": 52}, {\"cast_id\": 74, \"character\": \"Dancer\", \"credit_id\": \"52fe48019251416c750acaff\", \"gender\": 0, \"id\": 1207269, \"name\": \"Brandon Jelkes\", \"order\": 53}, {\"cast_id\": 75, \"character\": \"Dancer\", \"credit_id\": \"52fe48019251416c750acb03\", \"gender\": 0, \"id\": 1207270, \"name\": \"Micah Moch\", \"order\": 54}, {\"cast_id\": 76, \"character\": \"Dancer\", \"credit_id\": \"52fe48019251416c750acb07\", \"gender\": 0, \"id\": 1207271, \"name\": \"Hanniyah Muhammad\", \"order\": 55}, {\"cast_id\": 77, \"character\": \"Dancer\", \"credit_id\": \"52fe48019251416c750acb0b\", \"gender\": 0, \"id\": 1207272, \"name\": \"Christopher Nolen\", \"order\": 56}, {\"cast_id\": 78, \"character\": \"Dancer\", \"credit_id\": \"52fe48019251416c750acb0f\", \"gender\": 0, \"id\": 1207273, \"name\": \"Christa Oliver\", \"order\": 57}, {\"cast_id\": 79, \"character\": \"Dancer\", \"credit_id\": \"52fe48019251416c750acb13\", \"gender\": 0, \"id\": 1207274, \"name\": \"April Marie Thomas\", \"order\": 58}, {\"cast_id\": 80, \"character\": \"Dancer\", \"credit_id\": \"52fe48019251416c750acb17\", \"gender\": 0, \"id\": 1207275, \"name\": \"Bravita A. Threatt\", \"order\": 59}, {\"cast_id\": 81, \"character\": \"Mining Chief (uncredited)\", \"credit_id\": \"52fe48019251416c750acb1b\", \"gender\": 0, \"id\": 1207276, \"name\": \"Colin Bleasdale\", \"order\": 60}, {\"cast_id\": 82, \"character\": \"Veteran Miner (uncredited)\", \"credit_id\": \"52fe48019251416c750acb1f\", \"gender\": 0, \"id\": 107969, \"name\": \"Mike Bodnar\", \"order\": 61}, {\"cast_id\": 83, \"character\": \"Richard (uncredited)\", \"credit_id\": \"52fe48019251416c750acb23\", \"gender\": 0, \"id\": 1207278, \"name\": \"Matt Clayton\", \"order\": 62}, {\"cast_id\": 84, \"character\": \"Nav\\'i (uncredited)\", \"credit_id\": \"52fe48019251416c750acb27\", \"gender\": 1, \"id\": 147898, \"name\": \"Nicole Dionne\", \"order\": 63}, {\"cast_id\": 85, \"character\": \"Trooper (uncredited)\", \"credit_id\": \"52fe48019251416c750acb2b\", \"gender\": 0, \"id\": 1207280, \"name\": \"Jamie Harrison\", \"order\": 64}, {\"cast_id\": 86, \"character\": \"Trooper (uncredited)\", \"credit_id\": \"52fe48019251416c750acb2f\", \"gender\": 0, \"id\": 1207281, \"name\": \"Allan Henry\", \"order\": 65}, {\"cast_id\": 87, \"character\": \"Ground Technician (uncredited)\", \"credit_id\": \"52fe48019251416c750acb33\", \"gender\": 2, \"id\": 1207282, \"name\": \"Anthony Ingruber\", \"order\": 66}, {\"cast_id\": 88, \"character\": \"Flight Crew Mechanic (uncredited)\", \"credit_id\": \"52fe48019251416c750acb37\", \"gender\": 0, \"id\": 1207283, \"name\": \"Ashley Jeffery\", \"order\": 67}, {\"cast_id\": 14, \"character\": \"Samson Pilot\", \"credit_id\": \"52fe48009251416c750ac9f9\", \"gender\": 0, \"id\": 98216, \"name\": \"Dean Knowsley\", \"order\": 68}, {\"cast_id\": 89, \"character\": \"Trooper (uncredited)\", \"credit_id\": \"52fe48019251416c750acb3b\", \"gender\": 0, \"id\": 1201399, \"name\": \"Joseph Mika-Hunt\", \"order\": 69}, {\"cast_id\": 90, \"character\": \"Banshee (uncredited)\", \"credit_id\": \"52fe48019251416c750acb3f\", \"gender\": 0, \"id\": 236696, \"name\": \"Terry Notary\", \"order\": 70}, {\"cast_id\": 91, \"character\": \"Soldier (uncredited)\", \"credit_id\": \"52fe48019251416c750acb43\", \"gender\": 0, \"id\": 1207287, \"name\": \"Kai Pantano\", \"order\": 71}, {\"cast_id\": 92, \"character\": \"Blast Technician (uncredited)\", \"credit_id\": \"52fe48019251416c750acb47\", \"gender\": 0, \"id\": 1207288, \"name\": \"Logan Pithyou\", \"order\": 72}, {\"cast_id\": 93, \"character\": \"Vindum Raah (uncredited)\", \"credit_id\": \"52fe48019251416c750acb4b\", \"gender\": 0, \"id\": 1207289, \"name\": \"Stuart Pollock\", \"order\": 73}, {\"cast_id\": 94, \"character\": \"Hero (uncredited)\", \"credit_id\": \"52fe48019251416c750acb4f\", \"gender\": 0, \"id\": 584868, \"name\": \"Raja\", \"order\": 74}, {\"cast_id\": 95, \"character\": \"Ops Centreworker (uncredited)\", \"credit_id\": \"52fe48019251416c750acb53\", \"gender\": 0, \"id\": 1207290, \"name\": \"Gareth Ruck\", \"order\": 75}, {\"cast_id\": 96, \"character\": \"Engineer (uncredited)\", \"credit_id\": \"52fe48019251416c750acb57\", \"gender\": 0, \"id\": 1062463, \"name\": \"Rhian Sheehan\", \"order\": 76}, {\"cast_id\": 97, \"character\": \"Col. Quaritch\\'s Mech Suit (uncredited)\", \"credit_id\": \"52fe48019251416c750acb5b\", \"gender\": 0, \"id\": 60656, \"name\": \"T. J. Storm\", \"order\": 77}, {\"cast_id\": 98, \"character\": \"Female Marine (uncredited)\", \"credit_id\": \"52fe48019251416c750acb5f\", \"gender\": 0, \"id\": 1207291, \"name\": \"Jodie Taylor\", \"order\": 78}, {\"cast_id\": 99, \"character\": \"Ikran Clan Leader (uncredited)\", \"credit_id\": \"52fe48019251416c750acb63\", \"gender\": 1, \"id\": 1186027, \"name\": \"Alicia Vela-Bailey\", \"order\": 79}, {\"cast_id\": 100, \"character\": \"Geologist (uncredited)\", \"credit_id\": \"52fe48019251416c750acb67\", \"gender\": 0, \"id\": 1207292, \"name\": \"Richard Whiteside\", \"order\": 80}, {\"cast_id\": 101, \"character\": \"Na\\'vi (uncredited)\", \"credit_id\": \"52fe48019251416c750acb6b\", \"gender\": 0, \"id\": 103259, \"name\": \"Nikie Zambo\", \"order\": 81}, {\"cast_id\": 102, \"character\": \"Ambient Room Tech / Troupe\", \"credit_id\": \"52fe48019251416c750acb6f\", \"gender\": 1, \"id\": 42286, \"name\": \"Julene Renee\", \"order\": 82}]',\n",
       "       '[{\"cast_id\": 4, \"character\": \"Captain Jack Sparrow\", \"credit_id\": \"52fe4232c3a36847f800b50d\", \"gender\": 2, \"id\": 85, \"name\": \"Johnny Depp\", \"order\": 0}, {\"cast_id\": 5, \"character\": \"Will Turner\", \"credit_id\": \"52fe4232c3a36847f800b511\", \"gender\": 2, \"id\": 114, \"name\": \"Orlando Bloom\", \"order\": 1}, {\"cast_id\": 6, \"character\": \"Elizabeth Swann\", \"credit_id\": \"52fe4232c3a36847f800b515\", \"gender\": 1, \"id\": 116, \"name\": \"Keira Knightley\", \"order\": 2}, {\"cast_id\": 12, \"character\": \"William \\\\\"Bootstrap Bill\\\\\" Turner\", \"credit_id\": \"52fe4232c3a36847f800b52d\", \"gender\": 2, \"id\": 1640, \"name\": \"Stellan Skarsg\\\\u00e5rd\", \"order\": 3}, {\"cast_id\": 10, \"character\": \"Captain Sao Feng\", \"credit_id\": \"52fe4232c3a36847f800b525\", \"gender\": 2, \"id\": 1619, \"name\": \"Chow Yun-fat\", \"order\": 4}, {\"cast_id\": 9, \"character\": \"Captain Davy Jones\", \"credit_id\": \"52fe4232c3a36847f800b521\", \"gender\": 2, \"id\": 2440, \"name\": \"Bill Nighy\", \"order\": 5}, {\"cast_id\": 7, \"character\": \"Captain Hector Barbossa\", \"credit_id\": \"52fe4232c3a36847f800b519\", \"gender\": 2, \"id\": 118, \"name\": \"Geoffrey Rush\", \"order\": 6}, {\"cast_id\": 14, \"character\": \"Admiral James Norrington\", \"credit_id\": \"52fe4232c3a36847f800b535\", \"gender\": 2, \"id\": 1709, \"name\": \"Jack Davenport\", \"order\": 7}, {\"cast_id\": 13, \"character\": \"Joshamee Gibbs\", \"credit_id\": \"52fe4232c3a36847f800b531\", \"gender\": 2, \"id\": 2449, \"name\": \"Kevin McNally\", \"order\": 8}, {\"cast_id\": 11, \"character\": \"Lord Cutler Beckett\", \"credit_id\": \"52fe4232c3a36847f800b529\", \"gender\": 2, \"id\": 2441, \"name\": \"Tom Hollander\", \"order\": 9}, {\"cast_id\": 19, \"character\": \"Tia Dalma\", \"credit_id\": \"52fe4232c3a36847f800b549\", \"gender\": 1, \"id\": 2038, \"name\": \"Naomie Harris\", \"order\": 10}, {\"cast_id\": 8, \"character\": \"Governor Weatherby Swann\", \"credit_id\": \"52fe4232c3a36847f800b51d\", \"gender\": 2, \"id\": 378, \"name\": \"Jonathan Pryce\", \"order\": 11}, {\"cast_id\": 37, \"character\": \"Captain Teague Sparrow\", \"credit_id\": \"52fe4232c3a36847f800b5b3\", \"gender\": 2, \"id\": 1430, \"name\": \"Keith Richards\", \"order\": 12}, {\"cast_id\": 16, \"character\": \"Pintel\", \"credit_id\": \"52fe4232c3a36847f800b53d\", \"gender\": 2, \"id\": 1710, \"name\": \"Lee Arenberg\", \"order\": 13}, {\"cast_id\": 15, \"character\": \"Ragetti\", \"credit_id\": \"52fe4232c3a36847f800b539\", \"gender\": 2, \"id\": 1711, \"name\": \"Mackenzie Crook\", \"order\": 14}, {\"cast_id\": 18, \"character\": \"Lieutenant Theodore Groves\", \"credit_id\": \"52fe4232c3a36847f800b545\", \"gender\": 2, \"id\": 4031, \"name\": \"Greg Ellis\", \"order\": 15}, {\"cast_id\": 55, \"character\": \"Cotton\", \"credit_id\": \"57e28d2ec3a3681a01005b5c\", \"gender\": 2, \"id\": 1715, \"name\": \"David Bailie\", \"order\": 16}, {\"cast_id\": 17, \"character\": \"Marty\", \"credit_id\": \"52fe4232c3a36847f800b541\", \"gender\": 2, \"id\": 4030, \"name\": \"Martin Klebba\", \"order\": 17}, {\"cast_id\": 57, \"character\": \"Ian Mercer\", \"credit_id\": \"57e28d78c3a36808b900bf4f\", \"gender\": 0, \"id\": 939, \"name\": \"David Schofield\", \"order\": 18}, {\"cast_id\": 62, \"character\": \"Scarlett\", \"credit_id\": \"57e28ec5c3a3681a50005855\", \"gender\": 1, \"id\": 2450, \"name\": \"Lauren Maher\", \"order\": 19}, {\"cast_id\": 63, \"character\": \"Giselle\", \"credit_id\": \"57e28ed692514123f5005635\", \"gender\": 1, \"id\": 2452, \"name\": \"Vanessa Branch\", \"order\": 20}, {\"cast_id\": 60, \"character\": \"Mullroy\", \"credit_id\": \"57e28db2c3a3681a01005bc7\", \"gender\": 2, \"id\": 1714, \"name\": \"Angus Barnett\", \"order\": 21}, {\"cast_id\": 59, \"character\": \"Murtogg\", \"credit_id\": \"57e28da192514118f7006008\", \"gender\": 0, \"id\": 1713, \"name\": \"Giles New\", \"order\": 22}, {\"cast_id\": 58, \"character\": \"Tai Huang\", \"credit_id\": \"57e28d8ec3a3681a01005bab\", \"gender\": 2, \"id\": 22075, \"name\": \"Reggie Lee\", \"order\": 23}, {\"cast_id\": 64, \"character\": \"Henry Turner\", \"credit_id\": \"57e29119925141151100a6cc\", \"gender\": 2, \"id\": 61259, \"name\": \"Dominic Scott Kay\", \"order\": 24}, {\"cast_id\": 39, \"character\": \"Mistress Ching\", \"credit_id\": \"52fe4232c3a36847f800b5bd\", \"gender\": 1, \"id\": 33500, \"name\": \"Takayo Fischer\", \"order\": 25}, {\"cast_id\": 40, \"character\": \"Lieutenant Greitzer\", \"credit_id\": \"52fe4232c3a36847f800b5c1\", \"gender\": 2, \"id\": 1224149, \"name\": \"David Meunier\", \"order\": 26}, {\"cast_id\": 49, \"character\": \"Hadras\", \"credit_id\": \"56d1871c92514174680010cf\", \"gender\": 2, \"id\": 429401, \"name\": \"Ho-Kwan Tse\", \"order\": 27}, {\"cast_id\": 56, \"character\": \"Clacker\", \"credit_id\": \"57e28d4b92514125710055cb\", \"gender\": 0, \"id\": 1123, \"name\": \"Andy Beckwith\", \"order\": 28}, {\"cast_id\": 51, \"character\": \"Penrod\", \"credit_id\": \"56ec8c14c3a3682260003c53\", \"gender\": 2, \"id\": 1056117, \"name\": \"Peter Donald Badalamenti II\", \"order\": 29}, {\"cast_id\": 61, \"character\": \"Cotton\\'s Parrot (voice)\", \"credit_id\": \"57e28dcc9251412463005678\", \"gender\": 2, \"id\": 21700, \"name\": \"Christopher S. Capp\", \"order\": 30}, {\"cast_id\": 65, \"character\": \"Captain Teague\", \"credit_id\": \"58bc2a37c3a368663003740b\", \"gender\": 2, \"id\": 1430, \"name\": \"Keith Richards\", \"order\": 31}, {\"cast_id\": 66, \"character\": \"Captain Jocard\", \"credit_id\": \"58bc2a8e925141609e03a179\", \"gender\": 2, \"id\": 2603, \"name\": \"Hakeem Kae-Kazim\", \"order\": 32}, {\"cast_id\": 67, \"character\": \"Captain Ammand\", \"credit_id\": \"58e2a21ac3a36872af00f9c2\", \"gender\": 0, \"id\": 70577, \"name\": \"Ghassan Massoud\", \"order\": 33}]',\n",
       "       '[{\"cast_id\": 1, \"character\": \"James Bond\", \"credit_id\": \"52fe4d22c3a368484e1d8d6b\", \"gender\": 2, \"id\": 8784, \"name\": \"Daniel Craig\", \"order\": 0}, {\"cast_id\": 14, \"character\": \"Blofeld\", \"credit_id\": \"54805866c3a36829ab002592\", \"gender\": 2, \"id\": 27319, \"name\": \"Christoph Waltz\", \"order\": 1}, {\"cast_id\": 13, \"character\": \"Madeleine\", \"credit_id\": \"546f934fc3a3682f9a002ca5\", \"gender\": 1, \"id\": 121529, \"name\": \"L\\\\u00e9a Seydoux\", \"order\": 2}, {\"cast_id\": 10, \"character\": \"M\", \"credit_id\": \"53e86503c3a368399c0031f0\", \"gender\": 2, \"id\": 5469, \"name\": \"Ralph Fiennes\", \"order\": 3}, {\"cast_id\": 17, \"character\": \"Lucia\", \"credit_id\": \"54805920c3a36829ae0022c5\", \"gender\": 1, \"id\": 28782, \"name\": \"Monica Bellucci\", \"order\": 4}, {\"cast_id\": 8, \"character\": \"Q\", \"credit_id\": \"52fe4d22c3a368484e1d8d87\", \"gender\": 2, \"id\": 17064, \"name\": \"Ben Whishaw\", \"order\": 5}, {\"cast_id\": 11, \"character\": \"Moneypenny\", \"credit_id\": \"53e8650cc3a368399c0031f4\", \"gender\": 1, \"id\": 2038, \"name\": \"Naomie Harris\", \"order\": 6}, {\"cast_id\": 16, \"character\": \"Hinx\", \"credit_id\": \"5480590f9251416e7b0022f4\", \"gender\": 2, \"id\": 543530, \"name\": \"Dave Bautista\", \"order\": 7}, {\"cast_id\": 15, \"character\": \"C\", \"credit_id\": \"548058ffc3a36829a7002511\", \"gender\": 2, \"id\": 125660, \"name\": \"Andrew Scott\", \"order\": 8}, {\"cast_id\": 19, \"character\": \"Tanner\", \"credit_id\": \"5480593cc3a36829ae0022ca\", \"gender\": 2, \"id\": 139549, \"name\": \"Rory Kinnear\", \"order\": 9}, {\"cast_id\": 23, \"character\": \"Mr. White\", \"credit_id\": \"5517b3849251416f0d0032c8\", \"gender\": 2, \"id\": 2244, \"name\": \"Jesper Christensen\", \"order\": 10}, {\"cast_id\": 24, \"character\": \"Marco Sciarra\", \"credit_id\": \"5517b398c3a36862fc002df6\", \"gender\": 0, \"id\": 1381616, \"name\": \"Alessandro Cremona\", \"order\": 11}, {\"cast_id\": 25, \"character\": \"Estrella\", \"credit_id\": \"5517b3c49251412c1e00180b\", \"gender\": 1, \"id\": 929937, \"name\": \"Stephanie Sigman\", \"order\": 12}, {\"cast_id\": 49, \"character\": \"Mexican Man in Lift\", \"credit_id\": \"5664561cc3a3682bd0007fc8\", \"gender\": 0, \"id\": 87265, \"name\": \"Tenoch Huerta\", \"order\": 13}, {\"cast_id\": 50, \"character\": \"Mexican Woman in Lift\", \"credit_id\": \"5664561dc3a3682be9008dc6\", \"gender\": 1, \"id\": 983710, \"name\": \"Adriana Paz\", \"order\": 14}, {\"cast_id\": 180, \"character\": \"Gallo\", \"credit_id\": \"56fddbacc3a36821b6000aca\", \"gender\": 2, \"id\": 1385592, \"name\": \"Domenico Fortunato\", \"order\": 15}, {\"cast_id\": 51, \"character\": \"Gallo\\'s Accomplice\", \"credit_id\": \"5664561dc3a3682bd8008fbe\", \"gender\": 0, \"id\": 1545546, \"name\": \"Marco Zingaro\", \"order\": 16}, {\"cast_id\": 52, \"character\": \"Gallo\\'s Accomplice\", \"credit_id\": \"5664561d9251412ad300870b\", \"gender\": 2, \"id\": 1545547, \"name\": \"Stefano Elfi DiClaudia\", \"order\": 17}, {\"cast_id\": 181, \"character\": \"Q\\'s Assistant\", \"credit_id\": \"56fddc319251412a4d0009f9\", \"gender\": 0, \"id\": 122556, \"name\": \"Ian Bonar\", \"order\": 18}, {\"cast_id\": 182, \"character\": \"Moneypenny\\'s Boyfriend\", \"credit_id\": \"56fddc66c3a36821b6000b04\", \"gender\": 2, \"id\": 1599239, \"name\": \"Tam Williams\", \"order\": 19}, {\"cast_id\": 183, \"character\": \"Blofeld\\'s London Helicopter Pilot\", \"credit_id\": \"56fddc989251412a56000a85\", \"gender\": 2, \"id\": 1599241, \"name\": \"Richard Banham\", \"order\": 20}, {\"cast_id\": 184, \"character\": \"SC019 Police Commander\", \"credit_id\": \"56fddccf9251412a4b000b5d\", \"gender\": 2, \"id\": 230681, \"name\": \"Pip Carter\", \"order\": 21}, {\"cast_id\": 185, \"character\": \"SC019 Police Officer\", \"credit_id\": \"56fddce6c3a36821ae000b45\", \"gender\": 2, \"id\": 30446, \"name\": \"Simon Lenagan\", \"order\": 22}, {\"cast_id\": 27, \"character\": \"Priest\", \"credit_id\": \"5517b4f69251416efe003370\", \"gender\": 2, \"id\": 48377, \"name\": \"Alessandro Bressanello\", \"order\": 23}, {\"cast_id\": 38, \"character\": \"Moreau\", \"credit_id\": \"56486811c3a3682605006adc\", \"gender\": 0, \"id\": 578512, \"name\": \"Marc Zinga\", \"order\": 24}, {\"cast_id\": 39, \"character\": \"Vogel\", \"credit_id\": \"56486820c3a368261a006de7\", \"gender\": 0, \"id\": 1093974, \"name\": \"Brigitte Millar\", \"order\": 25}, {\"cast_id\": 41, \"character\": \"Abrika\", \"credit_id\": \"564868a09251413ad7006da5\", \"gender\": 2, \"id\": 89624, \"name\": \"Adel Bencherif\", \"order\": 26}, {\"cast_id\": 186, \"character\": \"Blofeld\\'s Right Hand Man\", \"credit_id\": \"56fddd5a9251412a42000b52\", \"gender\": 2, \"id\": 1129783, \"name\": \"Gediminas Adomaitis\", \"order\": 27}, {\"cast_id\": 42, \"character\": \"Lorenzo\", \"credit_id\": \"564868c5c3a368260c006ee4\", \"gender\": 0, \"id\": 226388, \"name\": \"Peppe Lanzetta\", \"order\": 28}, {\"cast_id\": 187, \"character\": \"Francesco\", \"credit_id\": \"56fddd9cc3a36821a4000b5b\", \"gender\": 2, \"id\": 1299312, \"name\": \"Francesco Arca\", \"order\": 29}, {\"cast_id\": 188, \"character\": \"Marco\", \"credit_id\": \"56fdddb79251412a50000aad\", \"gender\": 2, \"id\": 124628, \"name\": \"Matteo Taranto\", \"order\": 30}, {\"cast_id\": 189, \"character\": \"Palazzo Security\", \"credit_id\": \"56fdddd69251412a56000ac6\", \"gender\": 2, \"id\": 1562103, \"name\": \"Emilio Aniba\", \"order\": 31}, {\"cast_id\": 190, \"character\": \"Guerra\", \"credit_id\": \"56fdddf19251412a50000ac1\", \"gender\": 2, \"id\": 1474616, \"name\": \"Benito Sagredo\", \"order\": 32}, {\"cast_id\": 191, \"character\": \"Businessman\", \"credit_id\": \"56fdde0d9251416cc200004c\", \"gender\": 2, \"id\": 1247684, \"name\": \"Dai Tabuchi\", \"order\": 33}, {\"cast_id\": 192, \"character\": \"Businessman\", \"credit_id\": \"56fdde1bc3a36821b1000ba8\", \"gender\": 2, \"id\": 1599245, \"name\": \"George Lasha\", \"order\": 34}, {\"cast_id\": 193, \"character\": \"Businessman\", \"credit_id\": \"56fdde259251412a42000b93\", \"gender\": 0, \"id\": 1599247, \"name\": \"Sargon Yelda\", \"order\": 35}, {\"cast_id\": 194, \"character\": \"Businessman\", \"credit_id\": \"56fdde9fc3a36821b6000ba0\", \"gender\": 2, \"id\": 1599251, \"name\": \"Andy Cheung\", \"order\": 36}, {\"cast_id\": 195, \"character\": \"Marshall\", \"credit_id\": \"56fddeb29251412a50000af4\", \"gender\": 2, \"id\": 1599252, \"name\": \"Erick Hayden\", \"order\": 37}, {\"cast_id\": 196, \"character\": \"Valerian\", \"credit_id\": \"56fddec8c3a36821ab000c19\", \"gender\": 2, \"id\": 1599253, \"name\": \"Oleg Mirochnikov\", \"order\": 38}, {\"cast_id\": 197, \"character\": \"Fiat Driver\", \"credit_id\": \"56fddef89251412a47000a79\", \"gender\": 2, \"id\": 123548, \"name\": \"Antonio Salines\", \"order\": 39}, {\"cast_id\": 198, \"character\": \"Street Sweeper\", \"credit_id\": \"56fddf109251416cc2000086\", \"gender\": 2, \"id\": 1599254, \"name\": \"Miloud Mourad Benamara\", \"order\": 40}, {\"cast_id\": 199, \"character\": \"Chairman\", \"credit_id\": \"56fddf4a9251412a42000bcf\", \"gender\": 2, \"id\": 1599255, \"name\": \"Gido Schimanski\", \"order\": 41}, {\"cast_id\": 200, \"character\": \"Head of Nation\", \"credit_id\": \"56fddf69c3a36821a7000b12\", \"gender\": 0, \"id\": 1404403, \"name\": \"Nigel Barber\", \"order\": 42}, {\"cast_id\": 201, \"character\": \"Head of Nation\", \"credit_id\": \"56fddf7fc3a36821b1000c0d\", \"gender\": 2, \"id\": 74415, \"name\": \"Patrice Naiambana\", \"order\": 43}, {\"cast_id\": 202, \"character\": \"Head of Nation\", \"credit_id\": \"56fddf89c3a368219d000adb\", \"gender\": 2, \"id\": 1599256, \"name\": \"Stephane Cornicard\", \"order\": 44}, {\"cast_id\": 203, \"character\": \"Head of Nation\", \"credit_id\": \"56fddf929251412a56000b29\", \"gender\": 2, \"id\": 1599257, \"name\": \"Gary Fannin\", \"order\": 45}, {\"cast_id\": 204, \"character\": \"Head of Nation\", \"credit_id\": \"56fddf9cc3a36821ae000be1\", \"gender\": 2, \"id\": 1599258, \"name\": \"Sadao Ueda\", \"order\": 46}, {\"cast_id\": 205, \"character\": \"Head of Nation\", \"credit_id\": \"56fddfb99251412a50000b30\", \"gender\": 0, \"id\": 1599259, \"name\": \"Phillip Law\", \"order\": 47}, {\"cast_id\": 206, \"character\": \"Head of Nation\", \"credit_id\": \"56fddfef9251412a54000ba8\", \"gender\": 2, \"id\": 1599260, \"name\": \"Wai Wong\", \"order\": 48}, {\"cast_id\": 207, \"character\": \"Head of Nation\", \"credit_id\": \"56fde0179251412a47000ac2\", \"gender\": 2, \"id\": 1477143, \"name\": \"Joseph Balderrama\", \"order\": 49}, {\"cast_id\": 208, \"character\": \"Aide\", \"credit_id\": \"56fde0809251416cc20000cb\", \"gender\": 2, \"id\": 1599261, \"name\": \"Eiji Mihara\", \"order\": 50}, {\"cast_id\": 209, \"character\": \"Aide\", \"credit_id\": \"56fde0a49251412a47000ae0\", \"gender\": 2, \"id\": 1168129, \"name\": \"Junichi Kajioka\", \"order\": 51}, {\"cast_id\": 40, \"character\": \"Clinic Barman\", \"credit_id\": \"56486850c3a368260c006ecf\", \"gender\": 0, \"id\": 48393, \"name\": \"Victor Schef\\\\u00e9\", \"order\": 52}, {\"cast_id\": 210, \"character\": \"Clinic Security Guard\", \"credit_id\": \"56fde0f19251412a42000c28\", \"gender\": 2, \"id\": 1437333, \"name\": \"Harald Windisch\", \"order\": 53}, {\"cast_id\": 211, \"character\": \"Clinic Security Guard\", \"credit_id\": \"56fde118c3a36821a4000c3c\", \"gender\": 2, \"id\": 1599262, \"name\": \"Tristan Matthiae\", \"order\": 54}, {\"cast_id\": 177, \"character\": \"Cable Car Heavy\", \"credit_id\": \"5696db21c3a3683af90002d6\", \"gender\": 2, \"id\": 14637, \"name\": \"Detlef Bothe\", \"order\": 55}, {\"cast_id\": 212, \"character\": \"Cable Car Heavy\", \"credit_id\": \"56fde128c3a368219d000b4f\", \"gender\": 2, \"id\": 1599263, \"name\": \"Bodo Friesecke\", \"order\": 56}, {\"cast_id\": 213, \"character\": \"Syringe Heavy\", \"credit_id\": \"56fde1769251412a54000c0b\", \"gender\": 2, \"id\": 1599264, \"name\": \"Wilhem Iben\", \"order\": 57}, {\"cast_id\": 214, \"character\": \"Snowboarder\", \"credit_id\": \"56fde1849251412a42000c4d\", \"gender\": 1, \"id\": 1599265, \"name\": \"Noemi Krausz\", \"order\": 58}, {\"cast_id\": 215, \"character\": \"Snowboarder\", \"credit_id\": \"56fde18dc3a36821b6000c4f\", \"gender\": 2, \"id\": 1599266, \"name\": \"Noah Saavedra\", \"order\": 59}, {\"cast_id\": 216, \"character\": \"Snowboarder\", \"credit_id\": \"56fde1989251412a54000c16\", \"gender\": 0, \"id\": 1599267, \"name\": \"Francis Attakpah\", \"order\": 60}, {\"cast_id\": 217, \"character\": \"Snowboarder\", \"credit_id\": \"56fde1a39251412a42000c58\", \"gender\": 2, \"id\": 1599268, \"name\": \"Michael Glantschnig\", \"order\": 61}, {\"cast_id\": 218, \"character\": \"Snowboarder\", \"credit_id\": \"56fde1aec3a36821ab000cbf\", \"gender\": 2, \"id\": 1599269, \"name\": \"Marlon Boess\", \"order\": 62}, {\"cast_id\": 219, \"character\": \"Snowboarder\", \"credit_id\": \"56fde1b8c3a36821ae000c62\", \"gender\": 1, \"id\": 1599270, \"name\": \"Marie Wohlmuth\", \"order\": 63}, {\"cast_id\": 220, \"character\": \"Snowboarder\", \"credit_id\": \"56fde1c1c3a36821b1000c9c\", \"gender\": 1, \"id\": 1599271, \"name\": \"Lili Epply\", \"order\": 64}, {\"cast_id\": 221, \"character\": \"Snowboarder\", \"credit_id\": \"56fde1cbc3a36821a7000baf\", \"gender\": 2, \"id\": 1599272, \"name\": \"Konstantin Gerlach\", \"order\": 65}, {\"cast_id\": 222, \"character\": \"L\\'Americain Manater\", \"credit_id\": \"56fde24c9251412a45000bfb\", \"gender\": 1, \"id\": 1102369, \"name\": \"Lara Parmiani\", \"order\": 66}, {\"cast_id\": 223, \"character\": \"Train Guard\", \"credit_id\": \"56fde2679251412a54000c42\", \"gender\": 2, \"id\": 1372694, \"name\": \"Umit Ulgen\", \"order\": 67}, {\"cast_id\": 224, \"character\": \"Train Waiter\", \"credit_id\": \"56fde2869251412a50000bf1\", \"gender\": 2, \"id\": 1363060, \"name\": \"Amra Mallassi\", \"order\": 68}, {\"cast_id\": 225, \"character\": \"Train Barman\", \"credit_id\": \"56fde2969251412a45000c15\", \"gender\": 2, \"id\": 1599275, \"name\": \"Ziad Abaza\", \"order\": 69}, {\"cast_id\": 226, \"character\": \"Blofeld\\'s Chauffeur\", \"credit_id\": \"56fde2a79251412a54000c55\", \"gender\": 2, \"id\": 1599276, \"name\": \"Walid Mumuni\", \"order\": 70}, {\"cast_id\": 227, \"character\": \"Blofeld\\'s Guard\", \"credit_id\": \"56fde2eb9251416cc200015b\", \"gender\": 0, \"id\": 1599277, \"name\": \"Derek Horsham\", \"order\": 71}, {\"cast_id\": 228, \"character\": \"Blofeld\\'s Guard\", \"credit_id\": \"56fde3059251412a47000b6a\", \"gender\": 2, \"id\": 229320, \"name\": \"Nari Blair-Mangat\", \"order\": 72}, {\"cast_id\": 229, \"character\": \"Blofeld\\'s Butler\", \"credit_id\": \"56fde321c3a36821ab000d32\", \"gender\": 0, \"id\": 1599278, \"name\": \"Michael White\", \"order\": 73}, {\"cast_id\": 230, \"character\": \"Blofeld\\'s Waiter\", \"credit_id\": \"56fde34c9251412a56000c21\", \"gender\": 0, \"id\": 1599279, \"name\": \"Adam McGrady\", \"order\": 74}, {\"cast_id\": 231, \"character\": \"Blofeld\\'s Analyst\", \"credit_id\": \"56fde36d9251412a50000c2b\", \"gender\": 2, \"id\": 1436816, \"name\": \"Nader Dernaika\", \"order\": 75}, {\"cast_id\": 232, \"character\": \"Blofeld\\'s Chief Analyst\", \"credit_id\": \"56fde37f9251412a4b000cf7\", \"gender\": 2, \"id\": 1599280, \"name\": \"Pezhmaan Alinia\", \"order\": 76}, {\"cast_id\": 31, \"character\": \"M (uncredited)\", \"credit_id\": \"562f218fc3a3681b5200c9e5\", \"gender\": 1, \"id\": 5309, \"name\": \"Judi Dench\", \"order\": 77}, {\"cast_id\": 26, \"character\": \"Clinic Patron (uncredited)\", \"credit_id\": \"5517b4bbc3a3686302002f36\", \"gender\": 1, \"id\": 1186597, \"name\": \"Neve Gachev\", \"order\": 78}, {\"cast_id\": 245, \"character\": \"Businessman (uncredited)\", \"credit_id\": \"57e11a3e92514104570052ba\", \"gender\": 2, \"id\": 1654739, \"name\": \"Karl Farrer\", \"order\": 79}, {\"cast_id\": 246, \"character\": \"Lair Staff (uncredited)\", \"credit_id\": \"57e124d992514104530055ec\", \"gender\": 1, \"id\": 1682535, \"name\": \"Kim Adis\", \"order\": 80}, {\"cast_id\": 247, \"character\": \"Mexican Sprite (uncredited)\", \"credit_id\": \"57e125ccc3a36853f2005365\", \"gender\": 1, \"id\": 1682536, \"name\": \"Maurisa Selene Coleman\", \"order\": 81}, {\"cast_id\": 249, \"character\": \"Pilot David\", \"credit_id\": \"585ab69fc3a3682fb8091219\", \"gender\": 2, \"id\": 1725801, \"name\": \"Matija Mondi Matovi\\\\u0107\", \"order\": 82}]',\n",
       "       '[{\"cast_id\": 2, \"character\": \"Bruce Wayne / Batman\", \"credit_id\": \"52fe4781c3a36847f8139869\", \"gender\": 2, \"id\": 3894, \"name\": \"Christian Bale\", \"order\": 0}, {\"cast_id\": 8, \"character\": \"Alfred Pennyworth\", \"credit_id\": \"52fe4781c3a36847f8139881\", \"gender\": 2, \"id\": 3895, \"name\": \"Michael Caine\", \"order\": 1}, {\"cast_id\": 5, \"character\": \"James Gordon\", \"credit_id\": \"52fe4781c3a36847f8139875\", \"gender\": 2, \"id\": 64, \"name\": \"Gary Oldman\", \"order\": 2}, {\"cast_id\": 3, \"character\": \"Selina Kyle / Catwoman\", \"credit_id\": \"52fe4781c3a36847f813986d\", \"gender\": 1, \"id\": 1813, \"name\": \"Anne Hathaway\", \"order\": 3}, {\"cast_id\": 4, \"character\": \"Bane\", \"credit_id\": \"52fe4781c3a36847f8139871\", \"gender\": 2, \"id\": 2524, \"name\": \"Tom Hardy\", \"order\": 4}, {\"cast_id\": 15, \"character\": \"Miranda Tate\", \"credit_id\": \"52fe4781c3a36847f813988d\", \"gender\": 1, \"id\": 8293, \"name\": \"Marion Cotillard\", \"order\": 5}, {\"cast_id\": 6, \"character\": \"Blake\", \"credit_id\": \"52fe4781c3a36847f8139879\", \"gender\": 2, \"id\": 24045, \"name\": \"Joseph Gordon-Levitt\", \"order\": 6}, {\"cast_id\": 7, \"character\": \"Lucius Fox\", \"credit_id\": \"52fe4781c3a36847f813987d\", \"gender\": 2, \"id\": 192, \"name\": \"Morgan Freeman\", \"order\": 7}, {\"cast_id\": 46, \"character\": \"Dr. Jonathan Crane / Scarecrow\", \"credit_id\": \"52fe4781c3a36847f8139939\", \"gender\": 2, \"id\": 2037, \"name\": \"Cillian Murphy\", \"order\": 8}, {\"cast_id\": 9, \"character\": \"Jen\", \"credit_id\": \"52fe4781c3a36847f8139885\", \"gender\": 1, \"id\": 36594, \"name\": \"Juno Temple\", \"order\": 9}, {\"cast_id\": 47, \"character\": \"Ra\\'s Al Ghul\", \"credit_id\": \"52fe4781c3a36847f813993d\", \"gender\": 2, \"id\": 3896, \"name\": \"Liam Neeson\", \"order\": 10}, {\"cast_id\": 43, \"character\": \"Deputy Commissioner Foley\", \"credit_id\": \"52fe4781c3a36847f813992d\", \"gender\": 2, \"id\": 8654, \"name\": \"Matthew Modine\", \"order\": 11}, {\"cast_id\": 45, \"character\": \"Dr. Pavel\", \"credit_id\": \"52fe4781c3a36847f8139935\", \"gender\": 2, \"id\": 16607, \"name\": \"Alon Aboutboul\", \"order\": 12}, {\"cast_id\": 49, \"character\": \"Daggett\", \"credit_id\": \"52fe4782c3a36847f8139945\", \"gender\": 2, \"id\": 77335, \"name\": \"Ben Mendelsohn\", \"order\": 13}, {\"cast_id\": 10, \"character\": \"The Mayor\", \"credit_id\": \"52fe4781c3a36847f8139889\", \"gender\": 2, \"id\": 21316, \"name\": \"Nestor Carbonell\", \"order\": 14}, {\"cast_id\": 36, \"character\": \"Young Ra\\'s Al Ghul\", \"credit_id\": \"52fe4781c3a36847f8139909\", \"gender\": 0, \"id\": 928532, \"name\": \"Josh Pence\", \"order\": 15}, {\"cast_id\": 42, \"character\": \"Prisoner\", \"credit_id\": \"52fe4781c3a36847f8139929\", \"gender\": 0, \"id\": 71010, \"name\": \"Tom Conti\", \"order\": 16}, {\"cast_id\": 44, \"character\": \"Young Talia Al Ghul\", \"credit_id\": \"52fe4781c3a36847f8139931\", \"gender\": 1, \"id\": 125025, \"name\": \"Joey King\", \"order\": 17}, {\"cast_id\": 48, \"character\": \"Mercenary Security #1\", \"credit_id\": \"52fe4781c3a36847f8139941\", \"gender\": 2, \"id\": 211521, \"name\": \"Warren Brown\", \"order\": 18}, {\"cast_id\": 50, \"character\": \"Captain Jones\", \"credit_id\": \"52fe4782c3a36847f8139949\", \"gender\": 2, \"id\": 10582, \"name\": \"Daniel Sunjata\", \"order\": 19}, {\"cast_id\": 52, \"character\": \"Special Ops Sergeant\", \"credit_id\": \"52fe4782c3a36847f8139951\", \"gender\": 0, \"id\": 224365, \"name\": \"Sam Kennard\", \"order\": 20}, {\"cast_id\": 53, \"character\": \"Hooded Man #2\", \"credit_id\": \"53ab5495c3a3684bb900059a\", \"gender\": 0, \"id\": 1334307, \"name\": \"Aliash Tepina\", \"order\": 21}, {\"cast_id\": 54, \"character\": \"Caterer\", \"credit_id\": \"53ab59d40e0a267622000761\", \"gender\": 0, \"id\": 1334308, \"name\": \"Nick Julian\", \"order\": 22}, {\"cast_id\": 55, \"character\": \"Maid\", \"credit_id\": \"53ab5ba70e0a26761f000715\", \"gender\": 1, \"id\": 1334309, \"name\": \"Miranda Nolan\", \"order\": 23}, {\"cast_id\": 174, \"character\": \"Maid\", \"credit_id\": \"562196c8c3a3680e190096a0\", \"gender\": 0, \"id\": 1172491, \"name\": \"Claire Julien\", \"order\": 24}, {\"cast_id\": 56, \"character\": \"CIA Op\", \"credit_id\": \"53e761100e0a266f9d00176c\", \"gender\": 2, \"id\": 49735, \"name\": \"Aidan Gillen\", \"order\": 25}, {\"cast_id\": 172, \"character\": \"Stryver\", \"credit_id\": \"5621963e92514171d4009562\", \"gender\": 0, \"id\": 39659, \"name\": \"Burn Gorman\", \"order\": 26}, {\"cast_id\": 173, \"character\": \"Congressman\", \"credit_id\": \"5621969dc3a3680e0e009e97\", \"gender\": 2, \"id\": 16841, \"name\": \"Brett Cullen\", \"order\": 27}, {\"cast_id\": 175, \"character\": \"Ross\", \"credit_id\": \"56219708c3a3680e190096a9\", \"gender\": 2, \"id\": 22075, \"name\": \"Reggie Lee\", \"order\": 28}, {\"cast_id\": 176, \"character\": \"DWP Man\", \"credit_id\": \"56219739c3a3680e1d009ba6\", \"gender\": 2, \"id\": 159879, \"name\": \"Joseph Lyle Taylor\", \"order\": 29}, {\"cast_id\": 177, \"character\": \"Fr. Reilly\", \"credit_id\": \"56219752c3a3680e10009290\", \"gender\": 2, \"id\": 8191, \"name\": \"Chris Ellis\", \"order\": 30}, {\"cast_id\": 179, \"character\": \"SWAT in Dive Bar\", \"credit_id\": \"562197d3c3a3680e1d009bc0\", \"gender\": 2, \"id\": 1240417, \"name\": \"Duane Henry\", \"order\": 31}, {\"cast_id\": 180, \"character\": \"SWAT in Alley\", \"credit_id\": \"562197eb92514171c50096df\", \"gender\": 0, \"id\": 1218818, \"name\": \"James Harvey Ward\", \"order\": 32}, {\"cast_id\": 181, \"character\": \"Cop in Manhole\", \"credit_id\": \"562198019251411e1f004568\", \"gender\": 2, \"id\": 84754, \"name\": \"Gonzalo Menendez\", \"order\": 33}, {\"cast_id\": 365, \"character\": \"Sewer Thug #1\", \"credit_id\": \"5744667fc3a3681233001525\", \"gender\": 2, \"id\": 1473276, \"name\": \"Cameron Jack\", \"order\": 34}, {\"cast_id\": 182, \"character\": \"Sewer Thug #2\", \"credit_id\": \"5621987ec3a3686868003d9a\", \"gender\": 2, \"id\": 1364324, \"name\": \"Lex Daniel\", \"order\": 35}, {\"cast_id\": 183, \"character\": \"Mark\", \"credit_id\": \"562198cd92514171cd009658\", \"gender\": 2, \"id\": 1473749, \"name\": \"Tyler Dean Flores\", \"order\": 36}, {\"cast_id\": 184, \"character\": \"Doctor\", \"credit_id\": \"5621991192514171d000960d\", \"gender\": 2, \"id\": 539, \"name\": \"Thomas Lennon\", \"order\": 37}, {\"cast_id\": 185, \"character\": \"Yuppie\", \"credit_id\": \"5621997192514171d0009625\", \"gender\": 0, \"id\": 158484, \"name\": \"Trevor White\", \"order\": 38}, {\"cast_id\": 186, \"character\": \"Allen\", \"credit_id\": \"56219994c3a368240d0028d5\", \"gender\": 2, \"id\": 10689, \"name\": \"Rob Brown\", \"order\": 39}, {\"cast_id\": 187, \"character\": \"Exchange Security Chief\", \"credit_id\": \"562199b492514171d0009634\", \"gender\": 2, \"id\": 9632, \"name\": \"Fredric Lehne\", \"order\": 40}, {\"cast_id\": 188, \"character\": \"Female Security Guard\", \"credit_id\": \"562199dc92514171d000963c\", \"gender\": 0, \"id\": 1205900, \"name\": \"Courtney Munch\", \"order\": 41}, {\"cast_id\": 189, \"character\": \"Paparazzi #1\", \"credit_id\": \"56219a2ac3a368240d0028ee\", \"gender\": 2, \"id\": 1403768, \"name\": \"Chris Hill\", \"order\": 42}, {\"cast_id\": 190, \"character\": \"Paparazzi #2\", \"credit_id\": \"56219a3fc3a3680e16008b49\", \"gender\": 2, \"id\": 1465242, \"name\": \"Travis Guba\", \"order\": 43}, {\"cast_id\": 191, \"character\": \"Rich Twit\", \"credit_id\": \"56219a6cc3a3680e1900973e\", \"gender\": 2, \"id\": 141014, \"name\": \"Jay Benedict\", \"order\": 44}, {\"cast_id\": 192, \"character\": \"Officer Simon Jansen\", \"credit_id\": \"56219aadc3a3686868003e03\", \"gender\": 2, \"id\": 32363, \"name\": \"Will Estes\", \"order\": 45}, {\"cast_id\": 193, \"character\": \"Shoe Shine Man at GSE\", \"credit_id\": \"56219acc92514171c500975b\", \"gender\": 2, \"id\": 21182, \"name\": \"David Dayan Fisher\", \"order\": 46}, {\"cast_id\": 194, \"character\": \"Trader #1\", \"credit_id\": \"56219b32c3a368240d002927\", \"gender\": 2, \"id\": 83271, \"name\": \"Glen Powell\", \"order\": 47}, {\"cast_id\": 195, \"character\": \"Trader #3\", \"credit_id\": \"56219b86c3a3680e10009379\", \"gender\": 2, \"id\": 535, \"name\": \"Russ Fega\", \"order\": 48}, {\"cast_id\": 196, \"character\": \"Valet at Museum\", \"credit_id\": \"56219ba8c3a3680e10009383\", \"gender\": 2, \"id\": 1226016, \"name\": \"Andres Perez-Molina\", \"order\": 49}, {\"cast_id\": 197, \"character\": \"Veteran Cop\", \"credit_id\": \"56219bc6c3a368240d002952\", \"gender\": 2, \"id\": 15011, \"name\": \"Brent Briscoe\", \"order\": 50}, {\"cast_id\": 198, \"character\": \"Fredericks\", \"credit_id\": \"56219bec92514171d400967b\", \"gender\": 2, \"id\": 70225, \"name\": \"John Nolan\", \"order\": 51}, {\"cast_id\": 199, \"character\": \"2 Star Air Force General\", \"credit_id\": \"56219c1c9251413a740041a2\", \"gender\": 2, \"id\": 24627, \"name\": \"Oliver Cotton\", \"order\": 52}, {\"cast_id\": 200, \"character\": \"Airport Cop\", \"credit_id\": \"56219c3d92514171d400968e\", \"gender\": 0, \"id\": 142290, \"name\": \"Mark Killeen\", \"order\": 53}, {\"cast_id\": 201, \"character\": \"Analyst #1\", \"credit_id\": \"56219c6ac3a3680e1d009cb3\", \"gender\": 0, \"id\": 1377686, \"name\": \"Sarah Goldberg\", \"order\": 54}, {\"cast_id\": 202, \"character\": \"Analyst #2\", \"credit_id\": \"56219c86c3a3680e1d009cbb\", \"gender\": 2, \"id\": 550549, \"name\": \"John MacMillan\", \"order\": 55}, {\"cast_id\": 203, \"character\": \"Army Captain at Bridge\", \"credit_id\": \"56219cf9c3a3680e100093c7\", \"gender\": 2, \"id\": 21505, \"name\": \"Robert Wisdom\", \"order\": 56}, {\"cast_id\": 204, \"character\": \"Cement Truck Driver\", \"credit_id\": \"56219d18c3a3680e16008bd4\", \"gender\": 2, \"id\": 98804, \"name\": \"Ronnie Gene Blevins\", \"order\": 57}, {\"cast_id\": 205, \"character\": \"CIA Analyst\", \"credit_id\": \"56219d3d92514171d40096d2\", \"gender\": 0, \"id\": 1386824, \"name\": \"John Hollingworth\", \"order\": 58}, {\"cast_id\": 206, \"character\": \"Cop with Gordon\", \"credit_id\": \"56219d5dc3a3686868003e71\", \"gender\": 2, \"id\": 31362, \"name\": \"Ian Bohen\", \"order\": 59}, {\"cast_id\": 207, \"character\": \"Blind Prisoner\", \"credit_id\": \"56219d7ec3a3680e1d009ce9\", \"gender\": 2, \"id\": 145313, \"name\": \"Uri Gavriel\", \"order\": 60}, {\"cast_id\": 208, \"character\": \"Ex-Prisoner at River\", \"credit_id\": \"56219d9f9251417f470073a3\", \"gender\": 2, \"id\": 53252, \"name\": \"Noel Gugliemi\", \"order\": 61}, {\"cast_id\": 209, \"character\": \"Gangbanger\", \"credit_id\": \"56219dce9251417f470073b0\", \"gender\": 2, \"id\": 24202, \"name\": \"Hector Atreyu Ruiz\", \"order\": 62}, {\"cast_id\": 210, \"character\": \"Huge Inmate\", \"credit_id\": \"56219dfdc3a3680e2000a3c3\", \"gender\": 0, \"id\": 1301187, \"name\": \"Patrick Cox\", \"order\": 63}, {\"cast_id\": 211, \"character\": \"Kid with Apple\", \"credit_id\": \"56219e22c3a3680e2000a3cc\", \"gender\": 2, \"id\": 204191, \"name\": \"Aramis Knight\", \"order\": 64}, {\"cast_id\": 212, \"character\": \"Barsad\", \"credit_id\": \"56219e589251413a7400421c\", \"gender\": 2, \"id\": 40039, \"name\": \"Josh Stewart\", \"order\": 65}, {\"cast_id\": 213, \"character\": \"President\", \"credit_id\": \"56219e78c3a3680e0e00a022\", \"gender\": 2, \"id\": 21416, \"name\": \"William Devane\", \"order\": 66}, {\"cast_id\": 214, \"character\": \"Skinny Prisoner\", \"credit_id\": \"5621a54cc3a3686868003fcc\", \"gender\": 2, \"id\": 55411, \"name\": \"David Gyasi\", \"order\": 67}, {\"cast_id\": 215, \"character\": \"Special Forces #2\", \"credit_id\": \"5621a5ae9251413a74004f01\", \"gender\": 2, \"id\": 1244314, \"name\": \"Patrick Jordan\", \"order\": 68}, {\"cast_id\": 216, \"character\": \"Mercenary at City Hall\", \"credit_id\": \"5621a5f3c3a3680e1d009ef0\", \"gender\": 0, \"id\": 1286878, \"name\": \"Joshua Elijah Reese\", \"order\": 69}, {\"cast_id\": 217, \"character\": \"Uniform\", \"credit_id\": \"5621a611c3a3680e16008d93\", \"gender\": 2, \"id\": 6365, \"name\": \"Desmond Harrington\", \"order\": 70}, {\"cast_id\": 218, \"character\": \"Bomb Truck Driver\", \"credit_id\": \"5621a64ac3a3680e100095a7\", \"gender\": 2, \"id\": 1417415, \"name\": \"Mychael Bates\", \"order\": 71}, {\"cast_id\": 219, \"character\": \"Wayne\\'s Lawyer\", \"credit_id\": \"5622804dc3a3680e1d00c2ec\", \"gender\": 2, \"id\": 941, \"name\": \"Tomas Arana\", \"order\": 72}, {\"cast_id\": 220, \"character\": \"Applied Sciences Tech #1\", \"credit_id\": \"56228076c3a3680e1600ae35\", \"gender\": 0, \"id\": 1225911, \"name\": \"Peter Holden\", \"order\": 73}, {\"cast_id\": 221, \"character\": \"Applied Sciences Tech #2\", \"credit_id\": \"5622809bc3a3680e0e00c5a4\", \"gender\": 2, \"id\": 100891, \"name\": \"David Monahan\", \"order\": 74}, {\"cast_id\": 222, \"character\": \"Lawyer\\'s Clerk\", \"credit_id\": \"562280bbc3a3680e2000ca5f\", \"gender\": 1, \"id\": 20469, \"name\": \"Jillian Armenante\", \"order\": 75}, {\"cast_id\": 223, \"character\": \"Greeter at Museum\", \"credit_id\": \"562280fcc3a3680e2000ca68\", \"gender\": 1, \"id\": 105832, \"name\": \"Aja Evans\", \"order\": 76}, {\"cast_id\": 224, \"character\": \"Valet at Wayne Enterprises\", \"credit_id\": \"56228153c3a3680e1600ae64\", \"gender\": 0, \"id\": 1355615, \"name\": \"Aldous Davidson\", \"order\": 77}, {\"cast_id\": 225, \"character\": \"Warden at Blackgate\", \"credit_id\": \"562281a49251413a74006fda\", \"gender\": 2, \"id\": 51930, \"name\": \"Wade Williams\", \"order\": 78}, {\"cast_id\": 226, \"character\": \"Waiter in Florence Caf\\\\u00e9\", \"credit_id\": \"5623d3a8c3a3680e1600d8e2\", \"gender\": 0, \"id\": 95577, \"name\": \"Jake Canuso\", \"order\": 79}, {\"cast_id\": 228, \"character\": \"Janitor at GSE\", \"credit_id\": \"5623d47c92514127d4003522\", \"gender\": 0, \"id\": 1010873, \"name\": \"Massi Furlan\", \"order\": 81}, {\"cast_id\": 229, \"character\": \"Mercenary Security #4\", \"credit_id\": \"5623d4f2c3a3680e1d00f29d\", \"gender\": 2, \"id\": 26088, \"name\": \"Christopher Judge\", \"order\": 82}, {\"cast_id\": 230, \"character\": \"Board Member #2\", \"credit_id\": \"5623d5329251416b3000153a\", \"gender\": 2, \"id\": 853194, \"name\": \"Patrick Leahy\", \"order\": 83}, {\"cast_id\": 231, \"character\": \"Uniform #2\", \"credit_id\": \"5623d57192514135b00028d6\", \"gender\": 0, \"id\": 171606, \"name\": \"Todd Gearhart\", \"order\": 84}, {\"cast_id\": 232, \"character\": \"Gotham City Police Officer (uncredited)\", \"credit_id\": \"5623d5d69251417f4700becf\", \"gender\": 2, \"id\": 1406682, \"name\": \"Marc Abbink\", \"order\": 85}, {\"cast_id\": 233, \"character\": \"Young Stock Broker (uncredited)\", \"credit_id\": \"56252c5a9251413980001f01\", \"gender\": 0, \"id\": 1167718, \"name\": \"Isiah Adams\", \"order\": 86}, {\"cast_id\": 234, \"character\": \"Gotham City Police Officer (uncredited)\", \"credit_id\": \"56252cb2c3a3680e1d013497\", \"gender\": 1, \"id\": 572221, \"name\": \"Charlie Alejandro\", \"order\": 87}, {\"cast_id\": 235, \"character\": \"Former Upscaler (uncredited)\", \"credit_id\": \"56252cf9c3a3680e1d01349c\", \"gender\": 2, \"id\": 1116933, \"name\": \"Robert Arensen\", \"order\": 88}, {\"cast_id\": 236, \"character\": \"Angry Mobster / Prisoner (uncredited)\", \"credit_id\": \"56252d43c3a3680e2001483e\", \"gender\": 0, \"id\": 1524158, \"name\": \"Grant Babbitt\", \"order\": 89}, {\"cast_id\": 237, \"character\": \"Gotham Rogues Fan (uncredited)\", \"credit_id\": \"56252d6e9251413980001f2a\", \"gender\": 0, \"id\": 139188, \"name\": \"Fileena Bahris\", \"order\": 90}, {\"cast_id\": 238, \"character\": \"Mercenary (uncredited)\", \"credit_id\": \"56258b759251413980002af5\", \"gender\": 0, \"id\": 1075845, \"name\": \"Rick Bolander\", \"order\": 91}, {\"cast_id\": 239, \"character\": \"Police Officer (uncredited)\", \"credit_id\": \"56258bb192514135b000724c\", \"gender\": 0, \"id\": 1283949, \"name\": \"Kyle Patrick Brennan\", \"order\": 92}, {\"cast_id\": 240, \"character\": \"Gotham City Police Officer (uncredited)\", \"credit_id\": \"56267a109251412f15000873\", \"gender\": 0, \"id\": 1344943, \"name\": \"Scott Churchson\", \"order\": 93}, {\"cast_id\": 241, \"character\": \"Gotham Rogues Coach (uncredited)\", \"credit_id\": \"56267aeec3a3680e200186f9\", \"gender\": 0, \"id\": 1240191, \"name\": \"Bill Cowher\", \"order\": 94}, {\"cast_id\": 242, \"character\": \"Pentagon Navy Petty (uncredited)\", \"credit_id\": \"56267bbc9251412f150008ac\", \"gender\": 0, \"id\": 1359461, \"name\": \"Graham Curry\", \"order\": 95}, {\"cast_id\": 243, \"character\": \"Reporter (uncredited)\", \"credit_id\": \"5626dd3f92514137bb0006c8\", \"gender\": 1, \"id\": 1163300, \"name\": \"Stephanie Domini Ehlert\", \"order\": 96}, {\"cast_id\": 244, \"character\": \"Older Upscale Person (uncredited)\", \"credit_id\": \"5627ca69c3a3687c52000500\", \"gender\": 0, \"id\": 93752, \"name\": \"John Farrer\", \"order\": 97}, {\"cast_id\": 245, \"character\": \"Prisoner / Thug (uncredited)\", \"credit_id\": \"5627caafc3a3687c600004b3\", \"gender\": 0, \"id\": 1343309, \"name\": \"Frank Fata\", \"order\": 98}, {\"cast_id\": 246, \"character\": \"Stock Broker (uncredited)\", \"credit_id\": \"562830b7c3a3684880000421\", \"gender\": 0, \"id\": 1372419, \"name\": \"Christopher Bryan Gomez\", \"order\": 99}, {\"cast_id\": 247, \"character\": \"Thug (uncredited)\", \"credit_id\": \"562831229251414cdd000442\", \"gender\": 0, \"id\": 1502323, \"name\": \"Vito Grassi\", \"order\": 100}, {\"cast_id\": 248, \"character\": \"Stockbroker in Snipers Scoop - Stock Exchange (uncredited)\", \"credit_id\": \"5628314ec3a368487d00043e\", \"gender\": 2, \"id\": 1509064, \"name\": \"Michael Wren Gucciardo\", \"order\": 101}, {\"cast_id\": 249, \"character\": \"Prisoner (uncredited)\", \"credit_id\": \"56291c98c3a368487a0023d6\", \"gender\": 2, \"id\": 1525392, \"name\": \"Sam Harris\", \"order\": 102}, {\"cast_id\": 250, \"character\": \"Police Officer (uncredited)\", \"credit_id\": \"56291cdc9251414ccf002762\", \"gender\": 0, \"id\": 1365976, \"name\": \"Ed Heavey\", \"order\": 103}, {\"cast_id\": 251, \"character\": \"Gotham Police Officer / Fan (uncredited)\", \"credit_id\": \"56291d5cc3a368488c002830\", \"gender\": 2, \"id\": 1098036, \"name\": \"John W. Iwanonkiw\", \"order\": 104}, {\"cast_id\": 252, \"character\": \"Gordon\\'s Cop #4 (uncredited)\", \"credit_id\": \"56291dec9251414cd20026d0\", \"gender\": 0, \"id\": 1354413, \"name\": \"Cindy Jackson\", \"order\": 105}, {\"cast_id\": 253, \"character\": \"Boom Operator News Crew (uncredited)\", \"credit_id\": \"56291ecc9251414cd800251f\", \"gender\": 0, \"id\": 123875, \"name\": \"Daniel Jordano\", \"order\": 106}, {\"cast_id\": 254, \"character\": \"Gothamite (uncredited)\", \"credit_id\": \"562974c7c3a3681b5e000691\", \"gender\": 0, \"id\": 127060, \"name\": \"William Kania\", \"order\": 107}, {\"cast_id\": 255, \"character\": \"Gotham Rogues Fan (uncredited)\", \"credit_id\": \"562974f39251412853000708\", \"gender\": 0, \"id\": 1388256, \"name\": \"Tiffany Kemp\", \"order\": 108}, {\"cast_id\": 256, \"character\": \"Stock Broker (uncredited)\", \"credit_id\": \"562975e8c3a3681b4b00067b\", \"gender\": 0, \"id\": 1241239, \"name\": \"Sun Jae Kim\", \"order\": 109}, {\"cast_id\": 257, \"character\": \"Thug (uncredited)\", \"credit_id\": \"56297620c3a3681b5e0006c6\", \"gender\": 0, \"id\": 1378466, \"name\": \"Hrvoje Klecz\", \"order\": 110}, {\"cast_id\": 258, \"character\": \"Wall Street Broker (uncredited)\", \"credit_id\": \"5629768a9251412845000609\", \"gender\": 0, \"id\": 1264686, \"name\": \"Alex Kruz\", \"order\": 111}, {\"cast_id\": 259, \"character\": \"Gotham City Police Officer (uncredited)\", \"credit_id\": \"562a6fcf9251414ab7000d11\", \"gender\": 0, \"id\": 1169299, \"name\": \"Tyler La Marr\", \"order\": 112}, {\"cast_id\": 260, \"character\": \"Thug (uncredited)\", \"credit_id\": \"562a7046c3a3681b5c002691\", \"gender\": 2, \"id\": 1269611, \"name\": \"LeJon\", \"order\": 113}, {\"cast_id\": 261, \"character\": \"Gotham City Police Officer (uncredited)\", \"credit_id\": \"562a706fc3a3681b610028d9\", \"gender\": 0, \"id\": 1446471, \"name\": \"Paul Jude Letersky\", \"order\": 114}, {\"cast_id\": 262, \"character\": \"Prisoner (uncredited)\", \"credit_id\": \"562a70e5c3a3681b520027e1\", \"gender\": 0, \"id\": 1188950, \"name\": \"Joe Lipari\", \"order\": 115}, {\"cast_id\": 263, \"character\": \"Tourist (uncredited)\", \"credit_id\": \"562a7123c3a3681b5900267c\", \"gender\": 0, \"id\": 1383091, \"name\": \"Silvia Lombardo\", \"order\": 116}, {\"cast_id\": 264, \"character\": \"Gotham Rogues Fan (uncredited)\", \"credit_id\": \"562ad1bd9251414006001a31\", \"gender\": 0, \"id\": 1480128, \"name\": \"Jorge Mardel\", \"order\": 117}, {\"cast_id\": 265, \"character\": \"Gotham Rogues Fan (uncredited)\", \"credit_id\": \"562ad293925141284a0032ba\", \"gender\": 0, \"id\": 1174970, \"name\": \"Cale McConnell\", \"order\": 118}, {\"cast_id\": 266, \"character\": \"Gotham City Police Officer (uncredited)\", \"credit_id\": \"562ad2c6c3a3681b4d003b12\", \"gender\": 0, \"id\": 127063, \"name\": \"David Dale McCue\", \"order\": 119}, {\"cast_id\": 267, \"character\": \"Gotham Rogues Fan (uncredited)\", \"credit_id\": \"562ad2f49251412857003295\", \"gender\": 1, \"id\": 1480130, \"name\": \"Tiffany Sander McKenzie\", \"order\": 120}, {\"cast_id\": 268, \"character\": \"Angry Mobster (uncredited)\", \"credit_id\": \"562ad32f92514128530033a7\", \"gender\": 0, \"id\": 1505308, \"name\": \"Allen Merritt\", \"order\": 121}, {\"cast_id\": 269, \"character\": \"Wayne Enterprises Security (uncredited)\", \"credit_id\": \"562ad36ac3a3681b4d003b44\", \"gender\": 0, \"id\": 1509148, \"name\": \"Olan Montgomery\", \"order\": 122}, {\"cast_id\": 270, \"character\": \"Mercenary (uncredited)\", \"credit_id\": \"562ad3cdc3a3681b4d003b5b\", \"gender\": 0, \"id\": 122339, \"name\": \"Alex Moore\", \"order\": 123}, {\"cast_id\": 271, \"character\": \"Gotham City Police Officer (uncredited)\", \"credit_id\": \"562bb8699251412853005938\", \"gender\": 0, \"id\": 93778, \"name\": \"Shane Nolan\", \"order\": 124}, {\"cast_id\": 272, \"character\": \"Prisoner / Thug (uncredited)\", \"credit_id\": \"562bb8a1c3a3681b54005616\", \"gender\": 0, \"id\": 1205749, \"name\": \"Jackson Nunn\", \"order\": 125}, {\"cast_id\": 273, \"character\": \"Gotham City News Cameraman (uncredited)\", \"credit_id\": \"562bb8e1c3a3681b520051ef\", \"gender\": 0, \"id\": 1480150, \"name\": \"Joseph O\\'Brien\", \"order\": 126}, {\"cast_id\": 274, \"character\": \"Prison Guard (uncredited)\", \"credit_id\": \"562d1d8d9251414ad80066d8\", \"gender\": 2, \"id\": 20582, \"name\": \"Michael Papajohn\", \"order\": 127}, {\"cast_id\": 275, \"character\": \"Prisoner / Mob (uncredited)\", \"credit_id\": \"562d1dafc3a3681b4b007bf8\", \"gender\": 0, \"id\": 1298014, \"name\": \"Salomon Passariello\", \"order\": 128}, {\"cast_id\": 276, \"character\": \"Gotham Stock Trader (uncredited)\", \"credit_id\": \"562d1f0592514128530088c1\", \"gender\": 0, \"id\": 1429650, \"name\": \"Kyle David Pierce\", \"order\": 129}, {\"cast_id\": 277, \"character\": \"Gotham Rogues Player (uncredited)\", \"credit_id\": \"562d1f3c9251412845007b7b\", \"gender\": 0, \"id\": 1349600, \"name\": \"Troy Polamalu\", \"order\": 130}, {\"cast_id\": 278, \"character\": \"Gotham Police Officer (uncredited)\", \"credit_id\": \"562d1fc89251412857007fd5\", \"gender\": 0, \"id\": 1066138, \"name\": \"Michael Power\", \"order\": 131}, {\"cast_id\": 279, \"character\": \"Thug (uncredited)\", \"credit_id\": \"562e68b892514140060097f1\", \"gender\": 0, \"id\": 565508, \"name\": \"James Rawlings\", \"order\": 132}, {\"cast_id\": 280, \"character\": \"Doris in Black (uncredited)\", \"credit_id\": \"562e696e9251410a22006da5\", \"gender\": 0, \"id\": 1513716, \"name\": \"Kirsten Roeters\", \"order\": 133}, {\"cast_id\": 281, \"character\": \"Gotham Rogues Player (uncredited)\", \"credit_id\": \"562e69a79251414006009814\", \"gender\": 0, \"id\": 1215314, \"name\": \"Ben Roethlisberger\", \"order\": 134}, {\"cast_id\": 282, \"character\": \"Gotham Police Officer (uncredited)\", \"credit_id\": \"562e6a059251410a22006dba\", \"gender\": 2, \"id\": 1452954, \"name\": \"Mark Roman\", \"order\": 135}, {\"cast_id\": 283, \"character\": \"Thug (uncredited)\", \"credit_id\": \"562ed4919251410a22007aab\", \"gender\": 2, \"id\": 1451618, \"name\": \"Anthony J. Sacco\", \"order\": 136}, {\"cast_id\": 284, \"character\": \"Angry Thug (uncredited)\", \"credit_id\": \"562ed4c7c3a3681b6100c5aa\", \"gender\": 0, \"id\": 1085730, \"name\": \"Eric Salazar\", \"order\": 137}, {\"cast_id\": 285, \"character\": \"Hot Football Fan (uncredited)\", \"credit_id\": \"562ed503c3a3681b5c00bed4\", \"gender\": 0, \"id\": 557202, \"name\": \"Emily Schooley\", \"order\": 138}, {\"cast_id\": 286, \"character\": \"Gotham Rogues Owner (uncredited)\", \"credit_id\": \"562fbf75c3a3681b5c00dc2a\", \"gender\": 0, \"id\": 54211, \"name\": \"Thomas Tull\", \"order\": 139}, {\"cast_id\": 287, \"character\": \"Thug (uncredited)\", \"credit_id\": \"562fbfd3c3a3681b6100e4f0\", \"gender\": 2, \"id\": 1480223, \"name\": \"Chris Vaina\", \"order\": 140}, {\"cast_id\": 288, \"character\": \"Prisoner (voice) (uncredited)\", \"credit_id\": \"562fbff69251414ab700beee\", \"gender\": 0, \"id\": 102516, \"name\": \"Vincent van Ommen\", \"order\": 141}, {\"cast_id\": 289, \"character\": \"Gotham City Press (uncredited)\", \"credit_id\": \"562fc0609251414ab700bf02\", \"gender\": 0, \"id\": 1205751, \"name\": \"Michelle Vezzani\", \"order\": 142}, {\"cast_id\": 290, \"character\": \"Gotham Rogues Fan (uncredited)\", \"credit_id\": \"562fc0af925141285700d780\", \"gender\": 0, \"id\": 1205623, \"name\": \"Barbara Vincent\", \"order\": 143}, {\"cast_id\": 291, \"character\": \"Gotham City Police Officer (uncredited)\", \"credit_id\": \"5630244bc3a3681b5200e663\", \"gender\": 0, \"id\": 1521872, \"name\": \"Justin Michael Woods\", \"order\": 144}, {\"cast_id\": 292, \"character\": \"Mercenary Soldier (uncredited)\", \"credit_id\": \"5630248e925141284c00e8af\", \"gender\": 0, \"id\": 306870, \"name\": \"Jason Yee\", \"order\": 145}, {\"cast_id\": 293, \"character\": \"Gotham Citizen (uncredited)\", \"credit_id\": \"563024f6c3a3681b5c00e746\", \"gender\": 1, \"id\": 1205141, \"name\": \"Maria Zambrana\", \"order\": 146}, {\"cast_id\": 294, \"character\": \"Gotham City Police Officer (uncredited)\", \"credit_id\": \"56302558925141284c00e8c9\", \"gender\": 0, \"id\": 1343746, \"name\": \"John Zion\", \"order\": 147}, {\"cast_id\": 295, \"character\": \"Thug (uncredited)\", \"credit_id\": \"56302586c3a3681b4d0101a4\", \"gender\": 2, \"id\": 1454322, \"name\": \"Alex Ziwak\", \"order\": 148}, {\"cast_id\": 312, \"character\": \"Gotham City Police Officer (uncredited)\", \"credit_id\": \"567b4b6ac3a3684bcc001325\", \"gender\": 2, \"id\": 1553053, \"name\": \"Tommy Bayiokos\", \"order\": 149}, {\"cast_id\": 313, \"character\": \"Football Fan (uncredited)\", \"credit_id\": \"567c3783c3a36860e90013c3\", \"gender\": 0, \"id\": 1553307, \"name\": \"Matthew Gooley\", \"order\": 150}, {\"cast_id\": 314, \"character\": \"Cop (uncredited)\", \"credit_id\": \"567c9d3d9251417ddd0050fc\", \"gender\": 0, \"id\": 1553377, \"name\": \"Jeff Moffitt\", \"order\": 151}, {\"cast_id\": 350, \"character\": \"Football Fan (uncredited)\", \"credit_id\": \"56ba2843c3a3687c9e00008d\", \"gender\": 0, \"id\": 1574936, \"name\": \"Mark Falvo\", \"order\": 152}, {\"cast_id\": 352, \"character\": \"Thug (uncredited)\", \"credit_id\": \"56be271e9251417344004195\", \"gender\": 0, \"id\": 1576421, \"name\": \"Diogo Hausen\", \"order\": 153}, {\"cast_id\": 355, \"character\": \"Prisoner (uncredited)\", \"credit_id\": \"56c8aca1925141172f00382b\", \"gender\": 2, \"id\": 1580574, \"name\": \"Gary Sievers\", \"order\": 154}, {\"cast_id\": 356, \"character\": \"Mercenary (uncredited)\", \"credit_id\": \"56d0fb3d925141799e004ac6\", \"gender\": 0, \"id\": 1583389, \"name\": \"Orion McCabe\", \"order\": 155}, {\"cast_id\": 368, \"character\": \"Court Room Thug (uncredited)\", \"credit_id\": \"575af48cc3a368540300009a\", \"gender\": 2, \"id\": 1633514, \"name\": \"London May\", \"order\": 156}, {\"cast_id\": 383, \"character\": \"Gothamite (uncredited)\", \"credit_id\": \"57c84ca89251415a13000102\", \"gender\": 2, \"id\": 1673036, \"name\": \"James Quinn\", \"order\": 157}, {\"cast_id\": 385, \"character\": \"Thug #2 in Basement\", \"credit_id\": \"59309c45c3a3686a70000458\", \"gender\": 2, \"id\": 1536670, \"name\": \"Daniel Newman\", \"order\": 158}]',\n",
       "       '[{\"cast_id\": 5, \"character\": \"John Carter\", \"credit_id\": \"52fe479ac3a36847f813ea75\", \"gender\": 2, \"id\": 60900, \"name\": \"Taylor Kitsch\", \"order\": 0}, {\"cast_id\": 20, \"character\": \"Dejah Thoris\", \"credit_id\": \"52fe479ac3a36847f813eab3\", \"gender\": 1, \"id\": 21044, \"name\": \"Lynn Collins\", \"order\": 1}, {\"cast_id\": 7, \"character\": \"Sola\", \"credit_id\": \"52fe479ac3a36847f813ea79\", \"gender\": 1, \"id\": 2206, \"name\": \"Samantha Morton\", \"order\": 2}, {\"cast_id\": 3, \"character\": \"Tars Tarkas\", \"credit_id\": \"52fe479ac3a36847f813ea6d\", \"gender\": 2, \"id\": 5293, \"name\": \"Willem Dafoe\", \"order\": 3}, {\"cast_id\": 8, \"character\": \"Tal Hajus\", \"credit_id\": \"52fe479ac3a36847f813ea7d\", \"gender\": 2, \"id\": 19159, \"name\": \"Thomas Haden Church\", \"order\": 4}, {\"cast_id\": 2, \"character\": \"Matai Shang\", \"credit_id\": \"52fe479ac3a36847f813ea69\", \"gender\": 2, \"id\": 2983, \"name\": \"Mark Strong\", \"order\": 5}, {\"cast_id\": 4, \"character\": \"Tardos Mors\", \"credit_id\": \"52fe479ac3a36847f813ea71\", \"gender\": 2, \"id\": 8785, \"name\": \"Ciar\\\\u00e1n Hinds\", \"order\": 6}, {\"cast_id\": 9, \"character\": \"Sab Than\", \"credit_id\": \"52fe479ac3a36847f813ea81\", \"gender\": 2, \"id\": 17287, \"name\": \"Dominic West\", \"order\": 7}, {\"cast_id\": 10, \"character\": \"Kantos Kan\", \"credit_id\": \"52fe479ac3a36847f813ea85\", \"gender\": 2, \"id\": 17648, \"name\": \"James Purefoy\", \"order\": 8}, {\"cast_id\": 11, \"character\": \"Powell\", \"credit_id\": \"52fe479ac3a36847f813ea89\", \"gender\": 2, \"id\": 17419, \"name\": \"Bryan Cranston\", \"order\": 9}, {\"cast_id\": 12, \"character\": \"Sarkoja\", \"credit_id\": \"52fe479ac3a36847f813ea8d\", \"gender\": 1, \"id\": 6416, \"name\": \"Polly Walker\", \"order\": 10}, {\"cast_id\": 13, \"character\": \"Edgar Rice Burroughs\", \"credit_id\": \"52fe479ac3a36847f813ea91\", \"gender\": 2, \"id\": 57675, \"name\": \"Daryl Sabara\", \"order\": 11}, {\"cast_id\": 14, \"character\": \"Stayman #1 / Helm\", \"credit_id\": \"52fe479ac3a36847f813ea95\", \"gender\": 2, \"id\": 89830, \"name\": \"Arkie Reece\", \"order\": 12}, {\"cast_id\": 15, \"character\": \"Stayman #3\", \"credit_id\": \"52fe479ac3a36847f813ea99\", \"gender\": 2, \"id\": 205278, \"name\": \"Davood Ghadami\", \"order\": 13}, {\"cast_id\": 16, \"character\": \"Lightmaster\", \"credit_id\": \"52fe479ac3a36847f813ea9d\", \"gender\": 1, \"id\": 218345, \"name\": \"Pippa Nixon\", \"order\": 14}, {\"cast_id\": 46, \"character\": \"Thern #2\", \"credit_id\": \"584ef986c3a3682a940010d0\", \"gender\": 2, \"id\": 1390394, \"name\": \"James Embree\", \"order\": 15}, {\"cast_id\": 77, \"character\": \"Thern #1\", \"credit_id\": \"58c68f82c3a3684114014f58\", \"gender\": 0, \"id\": 1518112, \"name\": \"Philip Philmar\", \"order\": 16}, {\"cast_id\": 47, \"character\": \"Pretty Woman in NYC Doorway\", \"credit_id\": \"584f133992514107110024b8\", \"gender\": 1, \"id\": 1721985, \"name\": \"Emily Tierney\", \"order\": 17}, {\"cast_id\": 48, \"character\": \"Telegraph Clerk\", \"credit_id\": \"584f16d192514107000026a2\", \"gender\": 2, \"id\": 1721992, \"name\": \"Edmund Kente\", \"order\": 18}, {\"cast_id\": 49, \"character\": \"Dalton\", \"credit_id\": \"584f1a94c3a3682a8d0026e7\", \"gender\": 2, \"id\": 118617, \"name\": \"Nicholas Woodeson\", \"order\": 19}, {\"cast_id\": 50, \"character\": \"Stable Boy\", \"credit_id\": \"584f1f2b9251410700002be9\", \"gender\": 2, \"id\": 1722006, \"name\": \"Kyle Agnew\", \"order\": 20}, {\"cast_id\": 51, \"character\": \"Dix the Storekeeper\", \"credit_id\": \"584f28aec3a3683150000214\", \"gender\": 2, \"id\": 130129, \"name\": \"Don Stark\", \"order\": 21}, {\"cast_id\": 52, \"character\": \"Rowdy #1\", \"credit_id\": \"58580465c3a3683150056d0c\", \"gender\": 2, \"id\": 65716, \"name\": \"Josh Daugherty\", \"order\": 22}, {\"cast_id\": 53, \"character\": \"Rowdy #2\", \"credit_id\": \"58580cd89251411a4605f517\", \"gender\": 2, \"id\": 1724736, \"name\": \"Jared Cyr\", \"order\": 23}, {\"cast_id\": 37, \"character\": \"Stockade Guard\", \"credit_id\": \"54e5a58d925141529c000f89\", \"gender\": 2, \"id\": 62082, \"name\": \"Christopher Goodman\", \"order\": 24}, {\"cast_id\": 54, \"character\": \"Sarah Carter\", \"credit_id\": \"585823dc925141594100c816\", \"gender\": 1, \"id\": 1367241, \"name\": \"Amanda Clayton\", \"order\": 25}, {\"cast_id\": 170, \"character\": \"Apache #1 (as Joe Billingiere)\", \"credit_id\": \"595ad40c9251410bfa04831e\", \"gender\": 0, \"id\": 1844319, \"name\": \"Joseph Billingiere\", \"order\": 26}]'],\n",
       "      dtype=object)"
      ]
     },
     "execution_count": 10,
     "metadata": {},
     "output_type": "execute_result"
    }
   ],
   "source": [
    "credits.head()['cast'].values"
   ]
  },
  {
   "cell_type": "code",
   "execution_count": 8,
   "id": "036159c0",
   "metadata": {},
   "outputs": [],
   "source": [
    "# we nwwd cast and crew from credits"
   ]
  },
  {
   "cell_type": "markdown",
   "id": "880ec7ac",
   "metadata": {},
   "source": [
    "We are gonna merge these 2 datasets on the basis of title  "
   ]
  },
  {
   "cell_type": "code",
   "execution_count": 11,
   "id": "a9de09ef",
   "metadata": {},
   "outputs": [
    {
     "data": {
      "text/plain": [
       "(4809, 23)"
      ]
     },
     "execution_count": 11,
     "metadata": {},
     "output_type": "execute_result"
    }
   ],
   "source": [
    "movies.merge(credits,on='title').shape"
   ]
  },
  {
   "cell_type": "code",
   "execution_count": 12,
   "id": "9262f4e8",
   "metadata": {},
   "outputs": [
    {
     "data": {
      "text/plain": [
       "(4803, 20)"
      ]
     },
     "execution_count": 12,
     "metadata": {},
     "output_type": "execute_result"
    }
   ],
   "source": [
    "movies.shape"
   ]
  },
  {
   "cell_type": "code",
   "execution_count": 13,
   "id": "47352f2a",
   "metadata": {
    "scrolled": true
   },
   "outputs": [
    {
     "data": {
      "text/plain": [
       "(4803, 4)"
      ]
     },
     "execution_count": 13,
     "metadata": {},
     "output_type": "execute_result"
    }
   ],
   "source": [
    "credits.shape"
   ]
  },
  {
   "cell_type": "code",
   "execution_count": 14,
   "id": "587cef74",
   "metadata": {},
   "outputs": [],
   "source": [
    "movies=movies.merge(credits,on='title')"
   ]
  },
  {
   "cell_type": "markdown",
   "id": "29f6bcbf",
   "metadata": {},
   "source": [
    "going to keep some of the columns , \n",
    "1.genres\n",
    "2.id\n",
    "3.keywords\n",
    "4.title\n",
    "5.overview\n",
    "6.cast \n",
    "7. crew "
   ]
  },
  {
   "cell_type": "code",
   "execution_count": 15,
   "id": "9e665fff",
   "metadata": {},
   "outputs": [],
   "source": [
    "movies=movies[['movie_id','title','overview','genres','keywords','cast','crew']]"
   ]
  },
  {
   "cell_type": "code",
   "execution_count": 16,
   "id": "c9245b8f",
   "metadata": {},
   "outputs": [
    {
     "data": {
      "text/plain": [
       "movie_id    0\n",
       "title       0\n",
       "overview    3\n",
       "genres      0\n",
       "keywords    0\n",
       "cast        0\n",
       "crew        0\n",
       "dtype: int64"
      ]
     },
     "execution_count": 16,
     "metadata": {},
     "output_type": "execute_result"
    }
   ],
   "source": [
    "movies.isnull().sum()"
   ]
  },
  {
   "cell_type": "code",
   "execution_count": 18,
   "id": "0f24ecb5",
   "metadata": {},
   "outputs": [],
   "source": [
    "movies.dropna(inplace=True)"
   ]
  },
  {
   "cell_type": "code",
   "execution_count": 19,
   "id": "71fcbbb4",
   "metadata": {},
   "outputs": [
    {
     "data": {
      "text/plain": [
       "0"
      ]
     },
     "execution_count": 19,
     "metadata": {},
     "output_type": "execute_result"
    }
   ],
   "source": [
    "movies.duplicated().sum()"
   ]
  },
  {
   "cell_type": "code",
   "execution_count": 20,
   "id": "501aee51",
   "metadata": {},
   "outputs": [
    {
     "data": {
      "text/plain": [
       "'[{\"id\": 28, \"name\": \"Action\"}, {\"id\": 12, \"name\": \"Adventure\"}, {\"id\": 14, \"name\": \"Fantasy\"}, {\"id\": 878, \"name\": \"Science Fiction\"}]'"
      ]
     },
     "execution_count": 20,
     "metadata": {},
     "output_type": "execute_result"
    }
   ],
   "source": [
    "movies.iloc[0].genres"
   ]
  },
  {
   "cell_type": "code",
   "execution_count": 24,
   "id": "be0a6002",
   "metadata": {},
   "outputs": [],
   "source": [
    "#['Action','Adventure','Fantasy','SciFi']"
   ]
  },
  {
   "cell_type": "code",
   "execution_count": 21,
   "id": "c5f28935",
   "metadata": {},
   "outputs": [],
   "source": [
    "def convert(obj):\n",
    "    L=[]\n",
    "    for i in obj:\n",
    "      L.append(  i['name'])\n",
    "    return L"
   ]
  },
  {
   "cell_type": "code",
   "execution_count": 22,
   "id": "f7939330",
   "metadata": {},
   "outputs": [
    {
     "data": {
      "text/plain": [
       "[{'id': 28, 'name': 'Action'},\n",
       " {'id': 12, 'name': 'Adventure'},\n",
       " {'id': 14, 'name': 'Fantasy'},\n",
       " {'id': 878, 'name': 'Science Fiction'}]"
      ]
     },
     "execution_count": 22,
     "metadata": {},
     "output_type": "execute_result"
    }
   ],
   "source": [
    "import ast\n",
    "ast.literal_eval('[{\"id\": 28, \"name\": \"Action\"}, {\"id\": 12, \"name\": \"Adventure\"}, {\"id\": 14, \"name\": \"Fantasy\"}, {\"id\": 878, \"name\": \"Science Fiction\"}]')"
   ]
  },
  {
   "cell_type": "code",
   "execution_count": 23,
   "id": "dd84db12",
   "metadata": {},
   "outputs": [],
   "source": [
    "import ast \n",
    "def convert(obj):\n",
    "    \n",
    "    L=[]\n",
    "    for i in ast.literal_eval(obj):\n",
    "      L.append(  i['name'])\n",
    "    return L"
   ]
  },
  {
   "cell_type": "code",
   "execution_count": 24,
   "id": "c9f1e959",
   "metadata": {},
   "outputs": [],
   "source": [
    "movies['genres']=movies['genres'].apply(convert)"
   ]
  },
  {
   "cell_type": "code",
   "execution_count": 25,
   "id": "8e4fc204",
   "metadata": {},
   "outputs": [],
   "source": [
    "movies['keywords']= movies['keywords'].apply(convert)"
   ]
  },
  {
   "cell_type": "code",
   "execution_count": 26,
   "id": "5583ee63",
   "metadata": {},
   "outputs": [],
   "source": [
    "import ast\n",
    "\n",
    "def convert3(obj):\n",
    "    L = []\n",
    "    counter = 0\n",
    "    \n",
    "    for i in ast.literal_eval(obj):\n",
    "        if counter != 3:\n",
    "            L.append(i['name'])\n",
    "            counter += 1\n",
    "        else:\n",
    "            break\n",
    "    \n",
    "    return L\n",
    "\n"
   ]
  },
  {
   "cell_type": "code",
   "execution_count": 27,
   "id": "ae414d61",
   "metadata": {},
   "outputs": [],
   "source": [
    "movies['cast']=movies['cast'].apply(convert3)"
   ]
  },
  {
   "cell_type": "code",
   "execution_count": 28,
   "id": "bd535c29",
   "metadata": {},
   "outputs": [],
   "source": [
    "def fetch_director(text):\n",
    "    L = []\n",
    "    for i in ast.literal_eval(text):\n",
    "        if i['job'] == 'Director':\n",
    "            L.append(i['name'])\n",
    "            break\n",
    "    return L "
   ]
  },
  {
   "cell_type": "code",
   "execution_count": 29,
   "id": "85af97b6",
   "metadata": {},
   "outputs": [],
   "source": [
    "movies['crew']=movies['crew'].apply(fetch_director)"
   ]
  },
  {
   "cell_type": "code",
   "execution_count": 30,
   "id": "402c6ca3",
   "metadata": {},
   "outputs": [
    {
     "data": {
      "text/html": [
       "<div>\n",
       "<style scoped>\n",
       "    .dataframe tbody tr th:only-of-type {\n",
       "        vertical-align: middle;\n",
       "    }\n",
       "\n",
       "    .dataframe tbody tr th {\n",
       "        vertical-align: top;\n",
       "    }\n",
       "\n",
       "    .dataframe thead th {\n",
       "        text-align: right;\n",
       "    }\n",
       "</style>\n",
       "<table border=\"1\" class=\"dataframe\">\n",
       "  <thead>\n",
       "    <tr style=\"text-align: right;\">\n",
       "      <th></th>\n",
       "      <th>movie_id</th>\n",
       "      <th>title</th>\n",
       "      <th>overview</th>\n",
       "      <th>genres</th>\n",
       "      <th>keywords</th>\n",
       "      <th>cast</th>\n",
       "      <th>crew</th>\n",
       "    </tr>\n",
       "  </thead>\n",
       "  <tbody>\n",
       "    <tr>\n",
       "      <th>0</th>\n",
       "      <td>19995</td>\n",
       "      <td>Avatar</td>\n",
       "      <td>In the 22nd century, a paraplegic Marine is di...</td>\n",
       "      <td>[Action, Adventure, Fantasy, Science Fiction]</td>\n",
       "      <td>[culture clash, future, space war, space colon...</td>\n",
       "      <td>[Sam Worthington, Zoe Saldana, Sigourney Weaver]</td>\n",
       "      <td>[James Cameron]</td>\n",
       "    </tr>\n",
       "    <tr>\n",
       "      <th>1</th>\n",
       "      <td>285</td>\n",
       "      <td>Pirates of the Caribbean: At World's End</td>\n",
       "      <td>Captain Barbossa, long believed to be dead, ha...</td>\n",
       "      <td>[Adventure, Fantasy, Action]</td>\n",
       "      <td>[ocean, drug abuse, exotic island, east india ...</td>\n",
       "      <td>[Johnny Depp, Orlando Bloom, Keira Knightley]</td>\n",
       "      <td>[Gore Verbinski]</td>\n",
       "    </tr>\n",
       "    <tr>\n",
       "      <th>2</th>\n",
       "      <td>206647</td>\n",
       "      <td>Spectre</td>\n",
       "      <td>A cryptic message from Bond’s past sends him o...</td>\n",
       "      <td>[Action, Adventure, Crime]</td>\n",
       "      <td>[spy, based on novel, secret agent, sequel, mi...</td>\n",
       "      <td>[Daniel Craig, Christoph Waltz, Léa Seydoux]</td>\n",
       "      <td>[Sam Mendes]</td>\n",
       "    </tr>\n",
       "    <tr>\n",
       "      <th>3</th>\n",
       "      <td>49026</td>\n",
       "      <td>The Dark Knight Rises</td>\n",
       "      <td>Following the death of District Attorney Harve...</td>\n",
       "      <td>[Action, Crime, Drama, Thriller]</td>\n",
       "      <td>[dc comics, crime fighter, terrorist, secret i...</td>\n",
       "      <td>[Christian Bale, Michael Caine, Gary Oldman]</td>\n",
       "      <td>[Christopher Nolan]</td>\n",
       "    </tr>\n",
       "    <tr>\n",
       "      <th>4</th>\n",
       "      <td>49529</td>\n",
       "      <td>John Carter</td>\n",
       "      <td>John Carter is a war-weary, former military ca...</td>\n",
       "      <td>[Action, Adventure, Science Fiction]</td>\n",
       "      <td>[based on novel, mars, medallion, space travel...</td>\n",
       "      <td>[Taylor Kitsch, Lynn Collins, Samantha Morton]</td>\n",
       "      <td>[Andrew Stanton]</td>\n",
       "    </tr>\n",
       "  </tbody>\n",
       "</table>\n",
       "</div>"
      ],
      "text/plain": [
       "   movie_id                                     title  \\\n",
       "0     19995                                    Avatar   \n",
       "1       285  Pirates of the Caribbean: At World's End   \n",
       "2    206647                                   Spectre   \n",
       "3     49026                     The Dark Knight Rises   \n",
       "4     49529                               John Carter   \n",
       "\n",
       "                                            overview  \\\n",
       "0  In the 22nd century, a paraplegic Marine is di...   \n",
       "1  Captain Barbossa, long believed to be dead, ha...   \n",
       "2  A cryptic message from Bond’s past sends him o...   \n",
       "3  Following the death of District Attorney Harve...   \n",
       "4  John Carter is a war-weary, former military ca...   \n",
       "\n",
       "                                          genres  \\\n",
       "0  [Action, Adventure, Fantasy, Science Fiction]   \n",
       "1                   [Adventure, Fantasy, Action]   \n",
       "2                     [Action, Adventure, Crime]   \n",
       "3               [Action, Crime, Drama, Thriller]   \n",
       "4           [Action, Adventure, Science Fiction]   \n",
       "\n",
       "                                            keywords  \\\n",
       "0  [culture clash, future, space war, space colon...   \n",
       "1  [ocean, drug abuse, exotic island, east india ...   \n",
       "2  [spy, based on novel, secret agent, sequel, mi...   \n",
       "3  [dc comics, crime fighter, terrorist, secret i...   \n",
       "4  [based on novel, mars, medallion, space travel...   \n",
       "\n",
       "                                               cast                 crew  \n",
       "0  [Sam Worthington, Zoe Saldana, Sigourney Weaver]      [James Cameron]  \n",
       "1     [Johnny Depp, Orlando Bloom, Keira Knightley]     [Gore Verbinski]  \n",
       "2      [Daniel Craig, Christoph Waltz, Léa Seydoux]         [Sam Mendes]  \n",
       "3      [Christian Bale, Michael Caine, Gary Oldman]  [Christopher Nolan]  \n",
       "4    [Taylor Kitsch, Lynn Collins, Samantha Morton]     [Andrew Stanton]  "
      ]
     },
     "execution_count": 30,
     "metadata": {},
     "output_type": "execute_result"
    }
   ],
   "source": [
    "movies.head()"
   ]
  },
  {
   "cell_type": "code",
   "execution_count": 31,
   "id": "5ddb38ff",
   "metadata": {},
   "outputs": [],
   "source": [
    "movies['overview']=movies['overview'].apply(lambda x:x.split())"
   ]
  },
  {
   "cell_type": "code",
   "execution_count": 32,
   "id": "0a07e985",
   "metadata": {},
   "outputs": [
    {
     "data": {
      "text/html": [
       "<div>\n",
       "<style scoped>\n",
       "    .dataframe tbody tr th:only-of-type {\n",
       "        vertical-align: middle;\n",
       "    }\n",
       "\n",
       "    .dataframe tbody tr th {\n",
       "        vertical-align: top;\n",
       "    }\n",
       "\n",
       "    .dataframe thead th {\n",
       "        text-align: right;\n",
       "    }\n",
       "</style>\n",
       "<table border=\"1\" class=\"dataframe\">\n",
       "  <thead>\n",
       "    <tr style=\"text-align: right;\">\n",
       "      <th></th>\n",
       "      <th>movie_id</th>\n",
       "      <th>title</th>\n",
       "      <th>overview</th>\n",
       "      <th>genres</th>\n",
       "      <th>keywords</th>\n",
       "      <th>cast</th>\n",
       "      <th>crew</th>\n",
       "    </tr>\n",
       "  </thead>\n",
       "  <tbody>\n",
       "    <tr>\n",
       "      <th>0</th>\n",
       "      <td>19995</td>\n",
       "      <td>Avatar</td>\n",
       "      <td>[In, the, 22nd, century,, a, paraplegic, Marin...</td>\n",
       "      <td>[Action, Adventure, Fantasy, Science Fiction]</td>\n",
       "      <td>[culture clash, future, space war, space colon...</td>\n",
       "      <td>[Sam Worthington, Zoe Saldana, Sigourney Weaver]</td>\n",
       "      <td>[James Cameron]</td>\n",
       "    </tr>\n",
       "    <tr>\n",
       "      <th>1</th>\n",
       "      <td>285</td>\n",
       "      <td>Pirates of the Caribbean: At World's End</td>\n",
       "      <td>[Captain, Barbossa,, long, believed, to, be, d...</td>\n",
       "      <td>[Adventure, Fantasy, Action]</td>\n",
       "      <td>[ocean, drug abuse, exotic island, east india ...</td>\n",
       "      <td>[Johnny Depp, Orlando Bloom, Keira Knightley]</td>\n",
       "      <td>[Gore Verbinski]</td>\n",
       "    </tr>\n",
       "    <tr>\n",
       "      <th>2</th>\n",
       "      <td>206647</td>\n",
       "      <td>Spectre</td>\n",
       "      <td>[A, cryptic, message, from, Bond’s, past, send...</td>\n",
       "      <td>[Action, Adventure, Crime]</td>\n",
       "      <td>[spy, based on novel, secret agent, sequel, mi...</td>\n",
       "      <td>[Daniel Craig, Christoph Waltz, Léa Seydoux]</td>\n",
       "      <td>[Sam Mendes]</td>\n",
       "    </tr>\n",
       "    <tr>\n",
       "      <th>3</th>\n",
       "      <td>49026</td>\n",
       "      <td>The Dark Knight Rises</td>\n",
       "      <td>[Following, the, death, of, District, Attorney...</td>\n",
       "      <td>[Action, Crime, Drama, Thriller]</td>\n",
       "      <td>[dc comics, crime fighter, terrorist, secret i...</td>\n",
       "      <td>[Christian Bale, Michael Caine, Gary Oldman]</td>\n",
       "      <td>[Christopher Nolan]</td>\n",
       "    </tr>\n",
       "    <tr>\n",
       "      <th>4</th>\n",
       "      <td>49529</td>\n",
       "      <td>John Carter</td>\n",
       "      <td>[John, Carter, is, a, war-weary,, former, mili...</td>\n",
       "      <td>[Action, Adventure, Science Fiction]</td>\n",
       "      <td>[based on novel, mars, medallion, space travel...</td>\n",
       "      <td>[Taylor Kitsch, Lynn Collins, Samantha Morton]</td>\n",
       "      <td>[Andrew Stanton]</td>\n",
       "    </tr>\n",
       "  </tbody>\n",
       "</table>\n",
       "</div>"
      ],
      "text/plain": [
       "   movie_id                                     title  \\\n",
       "0     19995                                    Avatar   \n",
       "1       285  Pirates of the Caribbean: At World's End   \n",
       "2    206647                                   Spectre   \n",
       "3     49026                     The Dark Knight Rises   \n",
       "4     49529                               John Carter   \n",
       "\n",
       "                                            overview  \\\n",
       "0  [In, the, 22nd, century,, a, paraplegic, Marin...   \n",
       "1  [Captain, Barbossa,, long, believed, to, be, d...   \n",
       "2  [A, cryptic, message, from, Bond’s, past, send...   \n",
       "3  [Following, the, death, of, District, Attorney...   \n",
       "4  [John, Carter, is, a, war-weary,, former, mili...   \n",
       "\n",
       "                                          genres  \\\n",
       "0  [Action, Adventure, Fantasy, Science Fiction]   \n",
       "1                   [Adventure, Fantasy, Action]   \n",
       "2                     [Action, Adventure, Crime]   \n",
       "3               [Action, Crime, Drama, Thriller]   \n",
       "4           [Action, Adventure, Science Fiction]   \n",
       "\n",
       "                                            keywords  \\\n",
       "0  [culture clash, future, space war, space colon...   \n",
       "1  [ocean, drug abuse, exotic island, east india ...   \n",
       "2  [spy, based on novel, secret agent, sequel, mi...   \n",
       "3  [dc comics, crime fighter, terrorist, secret i...   \n",
       "4  [based on novel, mars, medallion, space travel...   \n",
       "\n",
       "                                               cast                 crew  \n",
       "0  [Sam Worthington, Zoe Saldana, Sigourney Weaver]      [James Cameron]  \n",
       "1     [Johnny Depp, Orlando Bloom, Keira Knightley]     [Gore Verbinski]  \n",
       "2      [Daniel Craig, Christoph Waltz, Léa Seydoux]         [Sam Mendes]  \n",
       "3      [Christian Bale, Michael Caine, Gary Oldman]  [Christopher Nolan]  \n",
       "4    [Taylor Kitsch, Lynn Collins, Samantha Morton]     [Andrew Stanton]  "
      ]
     },
     "execution_count": 32,
     "metadata": {},
     "output_type": "execute_result"
    }
   ],
   "source": [
    "movies.head()"
   ]
  },
  {
   "cell_type": "code",
   "execution_count": 33,
   "id": "6bbb6474",
   "metadata": {},
   "outputs": [],
   "source": [
    "movies['genres']=movies['genres'].apply(lambda x:[i.replace(\" \",\"\") for i in x])"
   ]
  },
  {
   "cell_type": "code",
   "execution_count": 34,
   "id": "8fa27c21",
   "metadata": {},
   "outputs": [],
   "source": [
    "movies['keywords']=movies['keywords'].apply(lambda x:[i.replace(\" \",\"\") for i in x])"
   ]
  },
  {
   "cell_type": "code",
   "execution_count": 35,
   "id": "e6000e37",
   "metadata": {},
   "outputs": [],
   "source": [
    "movies['cast']=movies['cast'].apply(lambda x:[i.replace(\" \",\"\") for i in x])"
   ]
  },
  {
   "cell_type": "code",
   "execution_count": 36,
   "id": "7781a939",
   "metadata": {},
   "outputs": [],
   "source": [
    "movies['crew']=movies['crew'].apply(lambda x:[i.replace(\" \",\"\") for i in x])"
   ]
  },
  {
   "cell_type": "code",
   "execution_count": 37,
   "id": "5dd867b4",
   "metadata": {},
   "outputs": [
    {
     "data": {
      "text/html": [
       "<div>\n",
       "<style scoped>\n",
       "    .dataframe tbody tr th:only-of-type {\n",
       "        vertical-align: middle;\n",
       "    }\n",
       "\n",
       "    .dataframe tbody tr th {\n",
       "        vertical-align: top;\n",
       "    }\n",
       "\n",
       "    .dataframe thead th {\n",
       "        text-align: right;\n",
       "    }\n",
       "</style>\n",
       "<table border=\"1\" class=\"dataframe\">\n",
       "  <thead>\n",
       "    <tr style=\"text-align: right;\">\n",
       "      <th></th>\n",
       "      <th>movie_id</th>\n",
       "      <th>title</th>\n",
       "      <th>overview</th>\n",
       "      <th>genres</th>\n",
       "      <th>keywords</th>\n",
       "      <th>cast</th>\n",
       "      <th>crew</th>\n",
       "    </tr>\n",
       "  </thead>\n",
       "  <tbody>\n",
       "    <tr>\n",
       "      <th>0</th>\n",
       "      <td>19995</td>\n",
       "      <td>Avatar</td>\n",
       "      <td>[In, the, 22nd, century,, a, paraplegic, Marin...</td>\n",
       "      <td>[Action, Adventure, Fantasy, ScienceFiction]</td>\n",
       "      <td>[cultureclash, future, spacewar, spacecolony, ...</td>\n",
       "      <td>[SamWorthington, ZoeSaldana, SigourneyWeaver]</td>\n",
       "      <td>[JamesCameron]</td>\n",
       "    </tr>\n",
       "    <tr>\n",
       "      <th>1</th>\n",
       "      <td>285</td>\n",
       "      <td>Pirates of the Caribbean: At World's End</td>\n",
       "      <td>[Captain, Barbossa,, long, believed, to, be, d...</td>\n",
       "      <td>[Adventure, Fantasy, Action]</td>\n",
       "      <td>[ocean, drugabuse, exoticisland, eastindiatrad...</td>\n",
       "      <td>[JohnnyDepp, OrlandoBloom, KeiraKnightley]</td>\n",
       "      <td>[GoreVerbinski]</td>\n",
       "    </tr>\n",
       "    <tr>\n",
       "      <th>2</th>\n",
       "      <td>206647</td>\n",
       "      <td>Spectre</td>\n",
       "      <td>[A, cryptic, message, from, Bond’s, past, send...</td>\n",
       "      <td>[Action, Adventure, Crime]</td>\n",
       "      <td>[spy, basedonnovel, secretagent, sequel, mi6, ...</td>\n",
       "      <td>[DanielCraig, ChristophWaltz, LéaSeydoux]</td>\n",
       "      <td>[SamMendes]</td>\n",
       "    </tr>\n",
       "    <tr>\n",
       "      <th>3</th>\n",
       "      <td>49026</td>\n",
       "      <td>The Dark Knight Rises</td>\n",
       "      <td>[Following, the, death, of, District, Attorney...</td>\n",
       "      <td>[Action, Crime, Drama, Thriller]</td>\n",
       "      <td>[dccomics, crimefighter, terrorist, secretiden...</td>\n",
       "      <td>[ChristianBale, MichaelCaine, GaryOldman]</td>\n",
       "      <td>[ChristopherNolan]</td>\n",
       "    </tr>\n",
       "    <tr>\n",
       "      <th>4</th>\n",
       "      <td>49529</td>\n",
       "      <td>John Carter</td>\n",
       "      <td>[John, Carter, is, a, war-weary,, former, mili...</td>\n",
       "      <td>[Action, Adventure, ScienceFiction]</td>\n",
       "      <td>[basedonnovel, mars, medallion, spacetravel, p...</td>\n",
       "      <td>[TaylorKitsch, LynnCollins, SamanthaMorton]</td>\n",
       "      <td>[AndrewStanton]</td>\n",
       "    </tr>\n",
       "  </tbody>\n",
       "</table>\n",
       "</div>"
      ],
      "text/plain": [
       "   movie_id                                     title  \\\n",
       "0     19995                                    Avatar   \n",
       "1       285  Pirates of the Caribbean: At World's End   \n",
       "2    206647                                   Spectre   \n",
       "3     49026                     The Dark Knight Rises   \n",
       "4     49529                               John Carter   \n",
       "\n",
       "                                            overview  \\\n",
       "0  [In, the, 22nd, century,, a, paraplegic, Marin...   \n",
       "1  [Captain, Barbossa,, long, believed, to, be, d...   \n",
       "2  [A, cryptic, message, from, Bond’s, past, send...   \n",
       "3  [Following, the, death, of, District, Attorney...   \n",
       "4  [John, Carter, is, a, war-weary,, former, mili...   \n",
       "\n",
       "                                         genres  \\\n",
       "0  [Action, Adventure, Fantasy, ScienceFiction]   \n",
       "1                  [Adventure, Fantasy, Action]   \n",
       "2                    [Action, Adventure, Crime]   \n",
       "3              [Action, Crime, Drama, Thriller]   \n",
       "4           [Action, Adventure, ScienceFiction]   \n",
       "\n",
       "                                            keywords  \\\n",
       "0  [cultureclash, future, spacewar, spacecolony, ...   \n",
       "1  [ocean, drugabuse, exoticisland, eastindiatrad...   \n",
       "2  [spy, basedonnovel, secretagent, sequel, mi6, ...   \n",
       "3  [dccomics, crimefighter, terrorist, secretiden...   \n",
       "4  [basedonnovel, mars, medallion, spacetravel, p...   \n",
       "\n",
       "                                            cast                crew  \n",
       "0  [SamWorthington, ZoeSaldana, SigourneyWeaver]      [JamesCameron]  \n",
       "1     [JohnnyDepp, OrlandoBloom, KeiraKnightley]     [GoreVerbinski]  \n",
       "2      [DanielCraig, ChristophWaltz, LéaSeydoux]         [SamMendes]  \n",
       "3      [ChristianBale, MichaelCaine, GaryOldman]  [ChristopherNolan]  \n",
       "4    [TaylorKitsch, LynnCollins, SamanthaMorton]     [AndrewStanton]  "
      ]
     },
     "execution_count": 37,
     "metadata": {},
     "output_type": "execute_result"
    }
   ],
   "source": [
    "movies.head()"
   ]
  },
  {
   "cell_type": "code",
   "execution_count": 38,
   "id": "2fcd3224",
   "metadata": {},
   "outputs": [],
   "source": [
    "movies['tags'] = movies['overview']+ movies['genres']+ movies['keywords']+ movies['cast']+movies['crew']"
   ]
  },
  {
   "cell_type": "code",
   "execution_count": 39,
   "id": "24da41b3",
   "metadata": {},
   "outputs": [
    {
     "data": {
      "text/html": [
       "<div>\n",
       "<style scoped>\n",
       "    .dataframe tbody tr th:only-of-type {\n",
       "        vertical-align: middle;\n",
       "    }\n",
       "\n",
       "    .dataframe tbody tr th {\n",
       "        vertical-align: top;\n",
       "    }\n",
       "\n",
       "    .dataframe thead th {\n",
       "        text-align: right;\n",
       "    }\n",
       "</style>\n",
       "<table border=\"1\" class=\"dataframe\">\n",
       "  <thead>\n",
       "    <tr style=\"text-align: right;\">\n",
       "      <th></th>\n",
       "      <th>movie_id</th>\n",
       "      <th>title</th>\n",
       "      <th>overview</th>\n",
       "      <th>genres</th>\n",
       "      <th>keywords</th>\n",
       "      <th>cast</th>\n",
       "      <th>crew</th>\n",
       "      <th>tags</th>\n",
       "    </tr>\n",
       "  </thead>\n",
       "  <tbody>\n",
       "    <tr>\n",
       "      <th>0</th>\n",
       "      <td>19995</td>\n",
       "      <td>Avatar</td>\n",
       "      <td>[In, the, 22nd, century,, a, paraplegic, Marin...</td>\n",
       "      <td>[Action, Adventure, Fantasy, ScienceFiction]</td>\n",
       "      <td>[cultureclash, future, spacewar, spacecolony, ...</td>\n",
       "      <td>[SamWorthington, ZoeSaldana, SigourneyWeaver]</td>\n",
       "      <td>[JamesCameron]</td>\n",
       "      <td>[In, the, 22nd, century,, a, paraplegic, Marin...</td>\n",
       "    </tr>\n",
       "    <tr>\n",
       "      <th>1</th>\n",
       "      <td>285</td>\n",
       "      <td>Pirates of the Caribbean: At World's End</td>\n",
       "      <td>[Captain, Barbossa,, long, believed, to, be, d...</td>\n",
       "      <td>[Adventure, Fantasy, Action]</td>\n",
       "      <td>[ocean, drugabuse, exoticisland, eastindiatrad...</td>\n",
       "      <td>[JohnnyDepp, OrlandoBloom, KeiraKnightley]</td>\n",
       "      <td>[GoreVerbinski]</td>\n",
       "      <td>[Captain, Barbossa,, long, believed, to, be, d...</td>\n",
       "    </tr>\n",
       "    <tr>\n",
       "      <th>2</th>\n",
       "      <td>206647</td>\n",
       "      <td>Spectre</td>\n",
       "      <td>[A, cryptic, message, from, Bond’s, past, send...</td>\n",
       "      <td>[Action, Adventure, Crime]</td>\n",
       "      <td>[spy, basedonnovel, secretagent, sequel, mi6, ...</td>\n",
       "      <td>[DanielCraig, ChristophWaltz, LéaSeydoux]</td>\n",
       "      <td>[SamMendes]</td>\n",
       "      <td>[A, cryptic, message, from, Bond’s, past, send...</td>\n",
       "    </tr>\n",
       "    <tr>\n",
       "      <th>3</th>\n",
       "      <td>49026</td>\n",
       "      <td>The Dark Knight Rises</td>\n",
       "      <td>[Following, the, death, of, District, Attorney...</td>\n",
       "      <td>[Action, Crime, Drama, Thriller]</td>\n",
       "      <td>[dccomics, crimefighter, terrorist, secretiden...</td>\n",
       "      <td>[ChristianBale, MichaelCaine, GaryOldman]</td>\n",
       "      <td>[ChristopherNolan]</td>\n",
       "      <td>[Following, the, death, of, District, Attorney...</td>\n",
       "    </tr>\n",
       "    <tr>\n",
       "      <th>4</th>\n",
       "      <td>49529</td>\n",
       "      <td>John Carter</td>\n",
       "      <td>[John, Carter, is, a, war-weary,, former, mili...</td>\n",
       "      <td>[Action, Adventure, ScienceFiction]</td>\n",
       "      <td>[basedonnovel, mars, medallion, spacetravel, p...</td>\n",
       "      <td>[TaylorKitsch, LynnCollins, SamanthaMorton]</td>\n",
       "      <td>[AndrewStanton]</td>\n",
       "      <td>[John, Carter, is, a, war-weary,, former, mili...</td>\n",
       "    </tr>\n",
       "  </tbody>\n",
       "</table>\n",
       "</div>"
      ],
      "text/plain": [
       "   movie_id                                     title  \\\n",
       "0     19995                                    Avatar   \n",
       "1       285  Pirates of the Caribbean: At World's End   \n",
       "2    206647                                   Spectre   \n",
       "3     49026                     The Dark Knight Rises   \n",
       "4     49529                               John Carter   \n",
       "\n",
       "                                            overview  \\\n",
       "0  [In, the, 22nd, century,, a, paraplegic, Marin...   \n",
       "1  [Captain, Barbossa,, long, believed, to, be, d...   \n",
       "2  [A, cryptic, message, from, Bond’s, past, send...   \n",
       "3  [Following, the, death, of, District, Attorney...   \n",
       "4  [John, Carter, is, a, war-weary,, former, mili...   \n",
       "\n",
       "                                         genres  \\\n",
       "0  [Action, Adventure, Fantasy, ScienceFiction]   \n",
       "1                  [Adventure, Fantasy, Action]   \n",
       "2                    [Action, Adventure, Crime]   \n",
       "3              [Action, Crime, Drama, Thriller]   \n",
       "4           [Action, Adventure, ScienceFiction]   \n",
       "\n",
       "                                            keywords  \\\n",
       "0  [cultureclash, future, spacewar, spacecolony, ...   \n",
       "1  [ocean, drugabuse, exoticisland, eastindiatrad...   \n",
       "2  [spy, basedonnovel, secretagent, sequel, mi6, ...   \n",
       "3  [dccomics, crimefighter, terrorist, secretiden...   \n",
       "4  [basedonnovel, mars, medallion, spacetravel, p...   \n",
       "\n",
       "                                            cast                crew  \\\n",
       "0  [SamWorthington, ZoeSaldana, SigourneyWeaver]      [JamesCameron]   \n",
       "1     [JohnnyDepp, OrlandoBloom, KeiraKnightley]     [GoreVerbinski]   \n",
       "2      [DanielCraig, ChristophWaltz, LéaSeydoux]         [SamMendes]   \n",
       "3      [ChristianBale, MichaelCaine, GaryOldman]  [ChristopherNolan]   \n",
       "4    [TaylorKitsch, LynnCollins, SamanthaMorton]     [AndrewStanton]   \n",
       "\n",
       "                                                tags  \n",
       "0  [In, the, 22nd, century,, a, paraplegic, Marin...  \n",
       "1  [Captain, Barbossa,, long, believed, to, be, d...  \n",
       "2  [A, cryptic, message, from, Bond’s, past, send...  \n",
       "3  [Following, the, death, of, District, Attorney...  \n",
       "4  [John, Carter, is, a, war-weary,, former, mili...  "
      ]
     },
     "execution_count": 39,
     "metadata": {},
     "output_type": "execute_result"
    }
   ],
   "source": [
    "movies.head()"
   ]
  },
  {
   "cell_type": "code",
   "execution_count": 40,
   "id": "7fe40abc",
   "metadata": {},
   "outputs": [],
   "source": [
    "new_df = movies[['movie_id','title','tags']]"
   ]
  },
  {
   "cell_type": "code",
   "execution_count": null,
   "id": "2c6dfc7e",
   "metadata": {},
   "outputs": [],
   "source": []
  },
  {
   "cell_type": "code",
   "execution_count": 41,
   "id": "3c6e2ccf",
   "metadata": {},
   "outputs": [
    {
     "name": "stderr",
     "output_type": "stream",
     "text": [
      "C:\\Users\\sahil\\AppData\\Local\\Temp\\ipykernel_16216\\3089726143.py:1: SettingWithCopyWarning: \n",
      "A value is trying to be set on a copy of a slice from a DataFrame.\n",
      "Try using .loc[row_indexer,col_indexer] = value instead\n",
      "\n",
      "See the caveats in the documentation: https://pandas.pydata.org/pandas-docs/stable/user_guide/indexing.html#returning-a-view-versus-a-copy\n",
      "  new_df['tags']=new_df['tags'].apply(lambda x:\" \".join(x))\n"
     ]
    }
   ],
   "source": [
    "new_df['tags']=new_df['tags'].apply(lambda x:\" \".join(x))\n",
    "#new_df['tags'] = new_df['tags'].apply(lambda x: \" \".join(x) if isinstance(x, list) else x)\n"
   ]
  },
  {
   "cell_type": "code",
   "execution_count": 42,
   "id": "02ca06c4",
   "metadata": {},
   "outputs": [
    {
     "data": {
      "text/html": [
       "<div>\n",
       "<style scoped>\n",
       "    .dataframe tbody tr th:only-of-type {\n",
       "        vertical-align: middle;\n",
       "    }\n",
       "\n",
       "    .dataframe tbody tr th {\n",
       "        vertical-align: top;\n",
       "    }\n",
       "\n",
       "    .dataframe thead th {\n",
       "        text-align: right;\n",
       "    }\n",
       "</style>\n",
       "<table border=\"1\" class=\"dataframe\">\n",
       "  <thead>\n",
       "    <tr style=\"text-align: right;\">\n",
       "      <th></th>\n",
       "      <th>movie_id</th>\n",
       "      <th>title</th>\n",
       "      <th>tags</th>\n",
       "    </tr>\n",
       "  </thead>\n",
       "  <tbody>\n",
       "    <tr>\n",
       "      <th>0</th>\n",
       "      <td>19995</td>\n",
       "      <td>Avatar</td>\n",
       "      <td>In the 22nd century, a paraplegic Marine is di...</td>\n",
       "    </tr>\n",
       "    <tr>\n",
       "      <th>1</th>\n",
       "      <td>285</td>\n",
       "      <td>Pirates of the Caribbean: At World's End</td>\n",
       "      <td>Captain Barbossa, long believed to be dead, ha...</td>\n",
       "    </tr>\n",
       "    <tr>\n",
       "      <th>2</th>\n",
       "      <td>206647</td>\n",
       "      <td>Spectre</td>\n",
       "      <td>A cryptic message from Bond’s past sends him o...</td>\n",
       "    </tr>\n",
       "    <tr>\n",
       "      <th>3</th>\n",
       "      <td>49026</td>\n",
       "      <td>The Dark Knight Rises</td>\n",
       "      <td>Following the death of District Attorney Harve...</td>\n",
       "    </tr>\n",
       "    <tr>\n",
       "      <th>4</th>\n",
       "      <td>49529</td>\n",
       "      <td>John Carter</td>\n",
       "      <td>John Carter is a war-weary, former military ca...</td>\n",
       "    </tr>\n",
       "  </tbody>\n",
       "</table>\n",
       "</div>"
      ],
      "text/plain": [
       "   movie_id                                     title  \\\n",
       "0     19995                                    Avatar   \n",
       "1       285  Pirates of the Caribbean: At World's End   \n",
       "2    206647                                   Spectre   \n",
       "3     49026                     The Dark Knight Rises   \n",
       "4     49529                               John Carter   \n",
       "\n",
       "                                                tags  \n",
       "0  In the 22nd century, a paraplegic Marine is di...  \n",
       "1  Captain Barbossa, long believed to be dead, ha...  \n",
       "2  A cryptic message from Bond’s past sends him o...  \n",
       "3  Following the death of District Attorney Harve...  \n",
       "4  John Carter is a war-weary, former military ca...  "
      ]
     },
     "execution_count": 42,
     "metadata": {},
     "output_type": "execute_result"
    }
   ],
   "source": [
    "new_df.head()"
   ]
  },
  {
   "cell_type": "code",
   "execution_count": 43,
   "id": "4825cf88",
   "metadata": {
    "scrolled": true
   },
   "outputs": [
    {
     "name": "stderr",
     "output_type": "stream",
     "text": [
      "C:\\Users\\sahil\\AppData\\Local\\Temp\\ipykernel_16216\\4224080999.py:1: SettingWithCopyWarning: \n",
      "A value is trying to be set on a copy of a slice from a DataFrame.\n",
      "Try using .loc[row_indexer,col_indexer] = value instead\n",
      "\n",
      "See the caveats in the documentation: https://pandas.pydata.org/pandas-docs/stable/user_guide/indexing.html#returning-a-view-versus-a-copy\n",
      "  new_df['tags']=new_df['tags'].apply(lambda x:x.lower())\n"
     ]
    }
   ],
   "source": [
    "new_df['tags']=new_df['tags'].apply(lambda x:x.lower())"
   ]
  },
  {
   "cell_type": "code",
   "execution_count": 44,
   "id": "40cba92c",
   "metadata": {},
   "outputs": [
    {
     "data": {
      "text/html": [
       "<div>\n",
       "<style scoped>\n",
       "    .dataframe tbody tr th:only-of-type {\n",
       "        vertical-align: middle;\n",
       "    }\n",
       "\n",
       "    .dataframe tbody tr th {\n",
       "        vertical-align: top;\n",
       "    }\n",
       "\n",
       "    .dataframe thead th {\n",
       "        text-align: right;\n",
       "    }\n",
       "</style>\n",
       "<table border=\"1\" class=\"dataframe\">\n",
       "  <thead>\n",
       "    <tr style=\"text-align: right;\">\n",
       "      <th></th>\n",
       "      <th>movie_id</th>\n",
       "      <th>title</th>\n",
       "      <th>tags</th>\n",
       "    </tr>\n",
       "  </thead>\n",
       "  <tbody>\n",
       "    <tr>\n",
       "      <th>0</th>\n",
       "      <td>19995</td>\n",
       "      <td>Avatar</td>\n",
       "      <td>in the 22nd century, a paraplegic marine is di...</td>\n",
       "    </tr>\n",
       "    <tr>\n",
       "      <th>1</th>\n",
       "      <td>285</td>\n",
       "      <td>Pirates of the Caribbean: At World's End</td>\n",
       "      <td>captain barbossa, long believed to be dead, ha...</td>\n",
       "    </tr>\n",
       "    <tr>\n",
       "      <th>2</th>\n",
       "      <td>206647</td>\n",
       "      <td>Spectre</td>\n",
       "      <td>a cryptic message from bond’s past sends him o...</td>\n",
       "    </tr>\n",
       "    <tr>\n",
       "      <th>3</th>\n",
       "      <td>49026</td>\n",
       "      <td>The Dark Knight Rises</td>\n",
       "      <td>following the death of district attorney harve...</td>\n",
       "    </tr>\n",
       "    <tr>\n",
       "      <th>4</th>\n",
       "      <td>49529</td>\n",
       "      <td>John Carter</td>\n",
       "      <td>john carter is a war-weary, former military ca...</td>\n",
       "    </tr>\n",
       "  </tbody>\n",
       "</table>\n",
       "</div>"
      ],
      "text/plain": [
       "   movie_id                                     title  \\\n",
       "0     19995                                    Avatar   \n",
       "1       285  Pirates of the Caribbean: At World's End   \n",
       "2    206647                                   Spectre   \n",
       "3     49026                     The Dark Knight Rises   \n",
       "4     49529                               John Carter   \n",
       "\n",
       "                                                tags  \n",
       "0  in the 22nd century, a paraplegic marine is di...  \n",
       "1  captain barbossa, long believed to be dead, ha...  \n",
       "2  a cryptic message from bond’s past sends him o...  \n",
       "3  following the death of district attorney harve...  \n",
       "4  john carter is a war-weary, former military ca...  "
      ]
     },
     "execution_count": 44,
     "metadata": {},
     "output_type": "execute_result"
    }
   ],
   "source": [
    "new_df.head()"
   ]
  },
  {
   "cell_type": "code",
   "execution_count": 45,
   "id": "0e034823",
   "metadata": {},
   "outputs": [
    {
     "data": {
      "text/plain": [
       "\"captain barbossa, long believed to be dead, has come back to life and is headed to the edge of the earth with will turner and elizabeth swann. but nothing is quite as it seems. adventure fantasy action ocean drugabuse exoticisland eastindiatradingcompany loveofone'slife traitor shipwreck strongwoman ship alliance calypso afterlife fighter pirate swashbuckler aftercreditsstinger johnnydepp orlandobloom keiraknightley goreverbinski\""
      ]
     },
     "execution_count": 45,
     "metadata": {},
     "output_type": "execute_result"
    }
   ],
   "source": [
    "new_df['tags'][1]"
   ]
  },
  {
   "cell_type": "code",
   "execution_count": 46,
   "id": "434b83ff",
   "metadata": {},
   "outputs": [
    {
     "name": "stdout",
     "output_type": "stream",
     "text": [
      "Requirement already satisfied: nltk in c:\\users\\sahil\\anaconda3\\lib\\site-packages (3.7)\n",
      "Requirement already satisfied: joblib in c:\\users\\sahil\\anaconda3\\lib\\site-packages (from nltk) (1.1.1)\n",
      "Requirement already satisfied: click in c:\\users\\sahil\\anaconda3\\lib\\site-packages (from nltk) (8.0.4)\n",
      "Requirement already satisfied: regex>=2021.8.3 in c:\\users\\sahil\\anaconda3\\lib\\site-packages (from nltk) (2022.7.9)\n",
      "Requirement already satisfied: tqdm in c:\\users\\sahil\\anaconda3\\lib\\site-packages (from nltk) (4.64.1)\n",
      "Requirement already satisfied: colorama in c:\\users\\sahil\\anaconda3\\lib\\site-packages (from click->nltk) (0.4.6)\n"
     ]
    }
   ],
   "source": [
    " ! pip install nltk"
   ]
  },
  {
   "cell_type": "code",
   "execution_count": 47,
   "id": "17127a7d",
   "metadata": {},
   "outputs": [],
   "source": [
    "import nltk"
   ]
  },
  {
   "cell_type": "code",
   "execution_count": 48,
   "id": "5737557f",
   "metadata": {},
   "outputs": [],
   "source": [
    "from nltk.stem.porter import PorterStemmer \n",
    "ps = PorterStemmer()"
   ]
  },
  {
   "cell_type": "code",
   "execution_count": 49,
   "id": "963bd4d3",
   "metadata": {},
   "outputs": [],
   "source": [
    "def stem(text):\n",
    "    y = []\n",
    "    for i in text.split():\n",
    "        y.append(ps.stem(i))\n",
    "    return \" \".join(y)"
   ]
  },
  {
   "cell_type": "code",
   "execution_count": 50,
   "id": "7aadb074",
   "metadata": {},
   "outputs": [
    {
     "data": {
      "text/plain": [
       "'love'"
      ]
     },
     "execution_count": 50,
     "metadata": {},
     "output_type": "execute_result"
    }
   ],
   "source": [
    "ps.stem('loved')"
   ]
  },
  {
   "cell_type": "code",
   "execution_count": 51,
   "id": "666273ed",
   "metadata": {},
   "outputs": [
    {
     "name": "stderr",
     "output_type": "stream",
     "text": [
      "C:\\Users\\sahil\\AppData\\Local\\Temp\\ipykernel_16216\\3514595201.py:1: SettingWithCopyWarning: \n",
      "A value is trying to be set on a copy of a slice from a DataFrame.\n",
      "Try using .loc[row_indexer,col_indexer] = value instead\n",
      "\n",
      "See the caveats in the documentation: https://pandas.pydata.org/pandas-docs/stable/user_guide/indexing.html#returning-a-view-versus-a-copy\n",
      "  new_df['tags']=new_df['tags'].apply(stem)\n"
     ]
    }
   ],
   "source": [
    "new_df['tags']=new_df['tags'].apply(stem)"
   ]
  },
  {
   "cell_type": "code",
   "execution_count": 52,
   "id": "643cff69",
   "metadata": {},
   "outputs": [],
   "source": [
    "from sklearn.feature_extraction.text import CountVectorizer\n",
    "cv= CountVectorizer(max_features=5000, stop_words='english')"
   ]
  },
  {
   "cell_type": "code",
   "execution_count": 53,
   "id": "0e38aca1",
   "metadata": {},
   "outputs": [],
   "source": [
    "vectors =cv.fit_transform(new_df['tags']).toarray()"
   ]
  },
  {
   "cell_type": "code",
   "execution_count": 54,
   "id": "d03b7ee2",
   "metadata": {},
   "outputs": [
    {
     "data": {
      "text/plain": [
       "array([[0, 0, 0, ..., 0, 0, 0],\n",
       "       [0, 0, 0, ..., 0, 0, 0],\n",
       "       [0, 0, 0, ..., 0, 0, 0],\n",
       "       ...,\n",
       "       [0, 0, 0, ..., 0, 0, 0],\n",
       "       [0, 0, 0, ..., 0, 0, 0],\n",
       "       [0, 0, 0, ..., 0, 0, 0]], dtype=int64)"
      ]
     },
     "execution_count": 54,
     "metadata": {},
     "output_type": "execute_result"
    }
   ],
   "source": [
    "vectors"
   ]
  },
  {
   "cell_type": "code",
   "execution_count": 55,
   "id": "bb063eb0",
   "metadata": {},
   "outputs": [
    {
     "data": {
      "text/plain": [
       "array(['000', '007', '10', ..., 'zone', 'zoo', 'zooeydeschanel'],\n",
       "      dtype=object)"
      ]
     },
     "execution_count": 55,
     "metadata": {},
     "output_type": "execute_result"
    }
   ],
   "source": [
    "cv.get_feature_names_out()"
   ]
  },
  {
   "cell_type": "code",
   "execution_count": 56,
   "id": "1280efa1",
   "metadata": {},
   "outputs": [],
   "source": [
    "   from sklearn.metrics.pairwise import cosine_similarity"
   ]
  },
  {
   "cell_type": "code",
   "execution_count": 57,
   "id": "a6e33b71",
   "metadata": {},
   "outputs": [],
   "source": [
    "similarity=cosine_similarity(vectors)"
   ]
  },
  {
   "cell_type": "code",
   "execution_count": 58,
   "id": "db5ed546",
   "metadata": {},
   "outputs": [
    {
     "data": {
      "text/plain": [
       "(4806, 4806)"
      ]
     },
     "execution_count": 58,
     "metadata": {},
     "output_type": "execute_result"
    }
   ],
   "source": [
    "similarity.shape"
   ]
  },
  {
   "cell_type": "code",
   "execution_count": 142,
   "id": "5bf9076c",
   "metadata": {},
   "outputs": [
    {
     "data": {
      "text/plain": [
       "[(2409, 0.47846539095067364),\n",
       " (4336, 0.43020835109527183),\n",
       " (373, 0.3990780273822755),\n",
       " (1537, 0.3896359327867572),\n",
       " (838, 0.38777935116044104)]"
      ]
     },
     "execution_count": 142,
     "metadata": {},
     "output_type": "execute_result"
    }
   ],
   "source": []
  },
  {
   "cell_type": "code",
   "execution_count": 59,
   "id": "4dc0385d",
   "metadata": {},
   "outputs": [],
   "source": [
    "def recommend(movie):\n",
    "    movie_index = new_df[new_df['title']== movie ].index[0]\n",
    "    distances = similarity[movie_index ]\n",
    "    movies_list = sorted(list(enumerate(distances)), reverse = True, key= lambda x:x[1])[1:6]\n",
    "    for i in movies_list:\n",
    "           print (new_df.iloc[i[0]].title)\n",
    "    "
   ]
  },
  {
   "cell_type": "code",
   "execution_count": 63,
   "id": "2d6222e5",
   "metadata": {},
   "outputs": [
    {
     "name": "stdout",
     "output_type": "stream",
     "text": [
      "Aliens vs Predator: Requiem\n",
      "Aliens\n",
      "Falcon Rising\n",
      "Independence Day\n",
      "Titan A.E.\n"
     ]
    }
   ],
   "source": [
    "recommend('Avatar')"
   ]
  },
  {
   "cell_type": "code",
   "execution_count": 61,
   "id": "1682a363",
   "metadata": {},
   "outputs": [],
   "source": [
    "import pickle"
   ]
  },
  {
   "cell_type": "code",
   "execution_count": 62,
   "id": "448a613f",
   "metadata": {},
   "outputs": [],
   "source": [
    "pickle.dump(new_df, open('movies.pkl', 'wb'))\n"
   ]
  },
  {
   "cell_type": "code",
   "execution_count": 65,
   "id": "1190fbbe",
   "metadata": {},
   "outputs": [
    {
     "data": {
      "text/plain": [
       "array(['Avatar', \"Pirates of the Caribbean: At World's End\", 'Spectre',\n",
       "       ..., 'Signed, Sealed, Delivered', 'Shanghai Calling',\n",
       "       'My Date with Drew'], dtype=object)"
      ]
     },
     "execution_count": 65,
     "metadata": {},
     "output_type": "execute_result"
    }
   ],
   "source": [
    "new_df['title'].values"
   ]
  },
  {
   "cell_type": "code",
   "execution_count": 66,
   "id": "c6596e3e",
   "metadata": {},
   "outputs": [],
   "source": [
    "pickle.dump(new_df.to_dict(),open('movie_dict.pkl','wb'))"
   ]
  },
  {
   "cell_type": "code",
   "execution_count": 67,
   "id": "66ab2e92",
   "metadata": {},
   "outputs": [],
   "source": [
    "pickle.dump(similarity,open('similarity.pkl','wb'))"
   ]
  },
  {
   "cell_type": "code",
   "execution_count": null,
   "id": "f7ae5973",
   "metadata": {},
   "outputs": [],
   "source": []
  },
  {
   "cell_type": "code",
   "execution_count": null,
   "id": "13164004",
   "metadata": {},
   "outputs": [],
   "source": []
  },
  {
   "cell_type": "code",
   "execution_count": null,
   "id": "a88abed6",
   "metadata": {},
   "outputs": [],
   "source": [
    "\n"
   ]
  },
  {
   "cell_type": "code",
   "execution_count": 92,
   "id": "19ec1e10",
   "metadata": {},
   "outputs": [],
   "source": []
  },
  {
   "cell_type": "code",
   "execution_count": null,
   "id": "403ce32c",
   "metadata": {},
   "outputs": [],
   "source": []
  }
 ],
 "metadata": {
  "kernelspec": {
   "display_name": "Python 3 (ipykernel)",
   "language": "python",
   "name": "python3"
  },
  "language_info": {
   "codemirror_mode": {
    "name": "ipython",
    "version": 3
   },
   "file_extension": ".py",
   "mimetype": "text/x-python",
   "name": "python",
   "nbconvert_exporter": "python",
   "pygments_lexer": "ipython3",
   "version": "3.10.9"
  }
 },
 "nbformat": 4,
 "nbformat_minor": 5
}
